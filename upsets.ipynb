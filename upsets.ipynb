{
 "metadata": {
  "language_info": {
   "codemirror_mode": {
    "name": "ipython",
    "version": 3
   },
   "file_extension": ".py",
   "mimetype": "text/x-python",
   "name": "python",
   "nbconvert_exporter": "python",
   "pygments_lexer": "ipython3",
   "version": "3.7.10-final"
  },
  "orig_nbformat": 2,
  "kernelspec": {
   "name": "python3",
   "display_name": "Python 3.7.10 64-bit ('datathon': conda)",
   "metadata": {
    "interpreter": {
     "hash": "721f77f74945e20fbba4afeff63b1ee9b3a26b44476e2fb4e7d3542907dbe2ed"
    }
   }
  }
 },
 "nbformat": 4,
 "nbformat_minor": 2,
 "cells": [
  {
   "cell_type": "code",
   "execution_count": 1,
   "metadata": {},
   "outputs": [],
   "source": [
    "import pandas as pd"
   ]
  },
  {
   "cell_type": "code",
   "execution_count": 2,
   "metadata": {},
   "outputs": [],
   "source": [
    "df = pd.read_csv(\"match.csv\")"
   ]
  },
  {
   "cell_type": "code",
   "execution_count": 3,
   "metadata": {},
   "outputs": [
    {
     "output_type": "execute_result",
     "data": {
      "text/plain": [
       "   country_id  league_id     season  stage          date  match_id  \\\n",
       "0           1          1  2008/2009      1  8/17/08 0:00    492473   \n",
       "1           1          1  2008/2009      1  8/16/08 0:00    492474   \n",
       "2           1          1  2008/2009      1  8/16/08 0:00    492475   \n",
       "3           1          1  2008/2009      1  8/17/08 0:00    492476   \n",
       "4           1          1  2008/2009      1  8/16/08 0:00    492477   \n",
       "\n",
       "   home_team_id  away_team_id  home_team_goal  away_team_goal  ...   SJA  \\\n",
       "0          9987          9993               1               1  ...  4.00   \n",
       "1         10000          9994               0               0  ...  3.80   \n",
       "2          9984          8635               0               3  ...  2.50   \n",
       "3          9991          9998               5               0  ...  7.50   \n",
       "4          7947          9985               1               3  ...  1.73   \n",
       "\n",
       "    VCH   VCD   VCA   GBH   GBD   GBA   BSH   BSD   BSA  \n",
       "0  1.65  3.40  4.50  1.78  3.25  4.00  1.73  3.40  4.20  \n",
       "1  2.00  3.25  3.25  1.85  3.25  3.75  1.91  3.25  3.60  \n",
       "2  2.35  3.25  2.65  2.50  3.20  2.50  2.30  3.20  2.75  \n",
       "3  1.45  3.75  6.50  1.50  3.75  5.50  1.44  3.75  6.50  \n",
       "4  4.50  3.40  1.65  4.50  3.50  1.65  4.75  3.30  1.67  \n",
       "\n",
       "[5 rows x 62 columns]"
      ],
      "text/html": "<div>\n<style scoped>\n    .dataframe tbody tr th:only-of-type {\n        vertical-align: middle;\n    }\n\n    .dataframe tbody tr th {\n        vertical-align: top;\n    }\n\n    .dataframe thead th {\n        text-align: right;\n    }\n</style>\n<table border=\"1\" class=\"dataframe\">\n  <thead>\n    <tr style=\"text-align: right;\">\n      <th></th>\n      <th>country_id</th>\n      <th>league_id</th>\n      <th>season</th>\n      <th>stage</th>\n      <th>date</th>\n      <th>match_id</th>\n      <th>home_team_id</th>\n      <th>away_team_id</th>\n      <th>home_team_goal</th>\n      <th>away_team_goal</th>\n      <th>...</th>\n      <th>SJA</th>\n      <th>VCH</th>\n      <th>VCD</th>\n      <th>VCA</th>\n      <th>GBH</th>\n      <th>GBD</th>\n      <th>GBA</th>\n      <th>BSH</th>\n      <th>BSD</th>\n      <th>BSA</th>\n    </tr>\n  </thead>\n  <tbody>\n    <tr>\n      <th>0</th>\n      <td>1</td>\n      <td>1</td>\n      <td>2008/2009</td>\n      <td>1</td>\n      <td>8/17/08 0:00</td>\n      <td>492473</td>\n      <td>9987</td>\n      <td>9993</td>\n      <td>1</td>\n      <td>1</td>\n      <td>...</td>\n      <td>4.00</td>\n      <td>1.65</td>\n      <td>3.40</td>\n      <td>4.50</td>\n      <td>1.78</td>\n      <td>3.25</td>\n      <td>4.00</td>\n      <td>1.73</td>\n      <td>3.40</td>\n      <td>4.20</td>\n    </tr>\n    <tr>\n      <th>1</th>\n      <td>1</td>\n      <td>1</td>\n      <td>2008/2009</td>\n      <td>1</td>\n      <td>8/16/08 0:00</td>\n      <td>492474</td>\n      <td>10000</td>\n      <td>9994</td>\n      <td>0</td>\n      <td>0</td>\n      <td>...</td>\n      <td>3.80</td>\n      <td>2.00</td>\n      <td>3.25</td>\n      <td>3.25</td>\n      <td>1.85</td>\n      <td>3.25</td>\n      <td>3.75</td>\n      <td>1.91</td>\n      <td>3.25</td>\n      <td>3.60</td>\n    </tr>\n    <tr>\n      <th>2</th>\n      <td>1</td>\n      <td>1</td>\n      <td>2008/2009</td>\n      <td>1</td>\n      <td>8/16/08 0:00</td>\n      <td>492475</td>\n      <td>9984</td>\n      <td>8635</td>\n      <td>0</td>\n      <td>3</td>\n      <td>...</td>\n      <td>2.50</td>\n      <td>2.35</td>\n      <td>3.25</td>\n      <td>2.65</td>\n      <td>2.50</td>\n      <td>3.20</td>\n      <td>2.50</td>\n      <td>2.30</td>\n      <td>3.20</td>\n      <td>2.75</td>\n    </tr>\n    <tr>\n      <th>3</th>\n      <td>1</td>\n      <td>1</td>\n      <td>2008/2009</td>\n      <td>1</td>\n      <td>8/17/08 0:00</td>\n      <td>492476</td>\n      <td>9991</td>\n      <td>9998</td>\n      <td>5</td>\n      <td>0</td>\n      <td>...</td>\n      <td>7.50</td>\n      <td>1.45</td>\n      <td>3.75</td>\n      <td>6.50</td>\n      <td>1.50</td>\n      <td>3.75</td>\n      <td>5.50</td>\n      <td>1.44</td>\n      <td>3.75</td>\n      <td>6.50</td>\n    </tr>\n    <tr>\n      <th>4</th>\n      <td>1</td>\n      <td>1</td>\n      <td>2008/2009</td>\n      <td>1</td>\n      <td>8/16/08 0:00</td>\n      <td>492477</td>\n      <td>7947</td>\n      <td>9985</td>\n      <td>1</td>\n      <td>3</td>\n      <td>...</td>\n      <td>1.73</td>\n      <td>4.50</td>\n      <td>3.40</td>\n      <td>1.65</td>\n      <td>4.50</td>\n      <td>3.50</td>\n      <td>1.65</td>\n      <td>4.75</td>\n      <td>3.30</td>\n      <td>1.67</td>\n    </tr>\n  </tbody>\n</table>\n<p>5 rows × 62 columns</p>\n</div>"
     },
     "metadata": {},
     "execution_count": 3
    }
   ],
   "source": [
    "df[:5]"
   ]
  },
  {
   "cell_type": "code",
   "execution_count": 17,
   "metadata": {},
   "outputs": [
    {
     "output_type": "execute_result",
     "data": {
      "text/plain": [
       "       country_id  league_id     season  stage           date  match_id  \\\n",
       "22716       21518      21518  2011/2012     14  11/26/11 0:00   1051788   \n",
       "22983       21518      21518  2011/2012      4   9/18/11 0:00   1051685   \n",
       "23707       21518      21518  2013/2014     36    5/4/14 0:00   1506162   \n",
       "24486       21518      21518  2015/2016     37    5/8/16 0:00   2030527   \n",
       "\n",
       "       home_team_id  away_team_id  home_team_goal  away_team_goal  ...   SJA  \\\n",
       "22716          8305          8634               1               0  ...  1.20   \n",
       "22983          8581          8633               1               0  ...  1.20   \n",
       "23707          8581          9906               2               0  ...  1.25   \n",
       "24486          8581          9906               2               1  ...   NaN   \n",
       "\n",
       "        VCH   VCD   VCA   GBH   GBD  GBA   BSH  BSD   BSA  \n",
       "22716  17.0  7.00  1.20  12.0  6.25  1.2  12.0  6.0  1.20  \n",
       "22983  13.0  6.50  1.22  11.0  6.50  1.2  12.0  6.5  1.18  \n",
       "23707  18.0  5.75  1.25   NaN   NaN  NaN   NaN  NaN   NaN  \n",
       "24486  17.0  6.50  1.22   NaN   NaN  NaN   NaN  NaN   NaN  \n",
       "\n",
       "[4 rows x 62 columns]"
      ],
      "text/html": "<div>\n<style scoped>\n    .dataframe tbody tr th:only-of-type {\n        vertical-align: middle;\n    }\n\n    .dataframe tbody tr th {\n        vertical-align: top;\n    }\n\n    .dataframe thead th {\n        text-align: right;\n    }\n</style>\n<table border=\"1\" class=\"dataframe\">\n  <thead>\n    <tr style=\"text-align: right;\">\n      <th></th>\n      <th>country_id</th>\n      <th>league_id</th>\n      <th>season</th>\n      <th>stage</th>\n      <th>date</th>\n      <th>match_id</th>\n      <th>home_team_id</th>\n      <th>away_team_id</th>\n      <th>home_team_goal</th>\n      <th>away_team_goal</th>\n      <th>...</th>\n      <th>SJA</th>\n      <th>VCH</th>\n      <th>VCD</th>\n      <th>VCA</th>\n      <th>GBH</th>\n      <th>GBD</th>\n      <th>GBA</th>\n      <th>BSH</th>\n      <th>BSD</th>\n      <th>BSA</th>\n    </tr>\n  </thead>\n  <tbody>\n    <tr>\n      <th>22716</th>\n      <td>21518</td>\n      <td>21518</td>\n      <td>2011/2012</td>\n      <td>14</td>\n      <td>11/26/11 0:00</td>\n      <td>1051788</td>\n      <td>8305</td>\n      <td>8634</td>\n      <td>1</td>\n      <td>0</td>\n      <td>...</td>\n      <td>1.20</td>\n      <td>17.0</td>\n      <td>7.00</td>\n      <td>1.20</td>\n      <td>12.0</td>\n      <td>6.25</td>\n      <td>1.2</td>\n      <td>12.0</td>\n      <td>6.0</td>\n      <td>1.20</td>\n    </tr>\n    <tr>\n      <th>22983</th>\n      <td>21518</td>\n      <td>21518</td>\n      <td>2011/2012</td>\n      <td>4</td>\n      <td>9/18/11 0:00</td>\n      <td>1051685</td>\n      <td>8581</td>\n      <td>8633</td>\n      <td>1</td>\n      <td>0</td>\n      <td>...</td>\n      <td>1.20</td>\n      <td>13.0</td>\n      <td>6.50</td>\n      <td>1.22</td>\n      <td>11.0</td>\n      <td>6.50</td>\n      <td>1.2</td>\n      <td>12.0</td>\n      <td>6.5</td>\n      <td>1.18</td>\n    </tr>\n    <tr>\n      <th>23707</th>\n      <td>21518</td>\n      <td>21518</td>\n      <td>2013/2014</td>\n      <td>36</td>\n      <td>5/4/14 0:00</td>\n      <td>1506162</td>\n      <td>8581</td>\n      <td>9906</td>\n      <td>2</td>\n      <td>0</td>\n      <td>...</td>\n      <td>1.25</td>\n      <td>18.0</td>\n      <td>5.75</td>\n      <td>1.25</td>\n      <td>NaN</td>\n      <td>NaN</td>\n      <td>NaN</td>\n      <td>NaN</td>\n      <td>NaN</td>\n      <td>NaN</td>\n    </tr>\n    <tr>\n      <th>24486</th>\n      <td>21518</td>\n      <td>21518</td>\n      <td>2015/2016</td>\n      <td>37</td>\n      <td>5/8/16 0:00</td>\n      <td>2030527</td>\n      <td>8581</td>\n      <td>9906</td>\n      <td>2</td>\n      <td>1</td>\n      <td>...</td>\n      <td>NaN</td>\n      <td>17.0</td>\n      <td>6.50</td>\n      <td>1.22</td>\n      <td>NaN</td>\n      <td>NaN</td>\n      <td>NaN</td>\n      <td>NaN</td>\n      <td>NaN</td>\n      <td>NaN</td>\n    </tr>\n  </tbody>\n</table>\n<p>4 rows × 62 columns</p>\n</div>"
     },
     "metadata": {},
     "execution_count": 17
    }
   ],
   "source": [
    "df.loc[(df['B365H'] > 10*df['B365A']) & (df['home_team_goal'] > df['away_team_goal'] )]"
   ]
  },
  {
   "cell_type": "code",
   "execution_count": 24,
   "metadata": {},
   "outputs": [
    {
     "output_type": "execute_result",
     "data": {
      "text/plain": [
       "       country_id  league_id     season  stage           date  match_id  \\\n",
       "425             1          1  2009/2010     25    2/6/10 0:00    665698   \n",
       "557             1          1  2010/2011     14   11/6/10 0:00    838636   \n",
       "2069         1729       1729  2008/2009      6   9/27/08 0:00    489093   \n",
       "2181         1729       1729  2009/2010     16  12/12/09 0:00    658822   \n",
       "2537         1729       1729  2010/2011     13  11/14/10 0:00    839943   \n",
       "2711         1729       1729  2010/2011      3   8/28/10 0:00    839837   \n",
       "2828         1729       1729  2010/2011      6   9/25/10 0:00    839864   \n",
       "2970         1729       1729  2011/2012     19  12/31/11 0:00   1025137   \n",
       "2972         1729       1729  2011/2012     19  12/31/11 0:00   1025144   \n",
       "3378         1729       1729  2012/2013     21    1/2/13 0:00   1229317   \n",
       "3910         1729       1729  2013/2014     35   4/19/14 0:00   1475077   \n",
       "4232         1729       1729  2014/2015      3   8/30/14 0:00   1724006   \n",
       "6771         4769       4769  2013/2014     19  12/20/13 0:00   1468312   \n",
       "8734         7809       7809  2011/2012      1    8/7/11 0:00   1029765   \n",
       "9329         7809       7809  2012/2013      9  10/28/12 0:00   1239539   \n",
       "9806         7809       7809  2014/2015     26   3/22/15 0:00   1732946   \n",
       "10094        7809       7809  2015/2016     24    3/2/16 0:00   2002300   \n",
       "10204        7809       7809  2015/2016      4   9/12/15 0:00   2002117   \n",
       "11550       10257      10257  2011/2012     23   2/12/12 0:00   1083393   \n",
       "11858       10257      10257  2012/2013     19    1/6/13 0:00   1287151   \n",
       "13926       13274      13274  2010/2011     13   11/7/10 0:00    836373   \n",
       "14179       13274      13274  2010/2011      8   10/3/10 0:00    836273   \n",
       "14304       13274      13274  2011/2012     20    2/5/12 0:00   1028713   \n",
       "14518       13274      13274  2012/2013     11   11/4/12 0:00   1222847   \n",
       "14587       13274      13274  2012/2013     19   1/18/13 0:00   1223043   \n",
       "15330       13274      13274  2014/2015     31   4/19/15 0:00   1712669   \n",
       "17849       17642      17642  2008/2009      6  10/25/08 0:00    509169   \n",
       "18121       17642      17642  2010/2011      1   8/15/10 0:00    859645   \n",
       "19504       17642      17642  2015/2016     21    2/7/16 0:00   2015989   \n",
       "19575       17642      17642  2015/2016     28    4/4/16 0:00   2016060   \n",
       "19813       19694      19694  2008/2009     28    3/4/09 0:00    490143   \n",
       "20167       19694      19694  2010/2011     12  11/10/10 0:00    840295   \n",
       "20580       19694      19694  2011/2012      5   8/21/11 0:00   1024215   \n",
       "20618       19694      19694  2012/2013     11  10/27/12 0:00   1229076   \n",
       "20641       19694      19694  2012/2013     15  11/24/12 0:00   1229134   \n",
       "21139       19694      19694  2014/2015     21    3/4/15 0:00   1726139   \n",
       "21349       19694      19694  2015/2016     19  12/19/15 0:00   1990951   \n",
       "21677       21518      21518  2008/2009     24   2/21/09 0:00    530493   \n",
       "22389       21518      21518  2010/2011      2   9/11/10 0:00    875496   \n",
       "22423       21518      21518  2010/2011     22    2/5/11 0:00    875885   \n",
       "22511       21518      21518  2010/2011     30    4/2/11 0:00    875912   \n",
       "23566       21518      21518  2013/2014     22    2/1/14 0:00   1506031   \n",
       "23814       21518      21518  2014/2015     10   11/1/14 0:00   1778131   \n",
       "23966       21518      21518  2014/2015     24   2/21/15 0:00   1778273   \n",
       "24440       21518      21518  2015/2016     33   4/17/16 0:00   2030481   \n",
       "\n",
       "       home_team_id  away_team_id  home_team_goal  away_team_goal  ...   SJA  \\\n",
       "425            8635          9997               1               2  ...  13.0   \n",
       "557            9985          6351               1               3  ...  13.0   \n",
       "2069           9825          8667               1               2  ...  17.0   \n",
       "2181           8586          8602               0               1  ...  13.0   \n",
       "2537           8455          8472               0               3  ...  15.0   \n",
       "2711           8586          8528               0               1  ...  10.0   \n",
       "2828           9825          8659               2               3  ...  15.0   \n",
       "2970           8455         10252               1               3  ...  13.0   \n",
       "2972          10260          8655               2               3  ...  21.0   \n",
       "3378           8455         10172               0               1  ...  15.0   \n",
       "3910           8455          8472               1               2  ...  15.0   \n",
       "4232           8456         10194               0               1  ...  12.0   \n",
       "6771           9829          9873               1               2  ...  13.0   \n",
       "8734           9823          9788               0               1  ...  13.0   \n",
       "9329           9823          8178               1               2  ...  12.0   \n",
       "9806           9823          9788               0               2  ...   NaN   \n",
       "10094          9823          9905               1               2  ...   NaN   \n",
       "10204          8178          8262               0               1  ...   NaN   \n",
       "11550          8636          6269               0               1  ...  13.0   \n",
       "11858          9885          9882               1               2  ...  13.0   \n",
       "13926          8593         10217               0               1  ...  17.0   \n",
       "14179          8593          9908               1               2  ...  11.0   \n",
       "14304          8593          9908               0               2  ...  13.0   \n",
       "14518         10229          9839               1               2  ...  12.0   \n",
       "14587          8640          6413               1               3  ...  13.0   \n",
       "15330         10235          6433               0               1  ...   NaN   \n",
       "17849          9773          6421               2               3  ...  11.0   \n",
       "18121          9772         10215               1               2  ...  15.0   \n",
       "19504          9773        158085               1               2  ...   NaN   \n",
       "19575          9773        188163               0               1  ...   NaN   \n",
       "19813          8548          8066               0               1  ...  13.0   \n",
       "20167          8548         10251               0               3  ...  10.0   \n",
       "20580          9925          8467               0               1  ...  12.0   \n",
       "20618          9925          8597               0               2  ...  12.0   \n",
       "20641          9925          8066               0               1  ...  12.0   \n",
       "21139          9925          8467               0               1  ...   NaN   \n",
       "21349          9925          9927               1               2  ...   NaN   \n",
       "21677          8634          8558               1               2  ...  13.0   \n",
       "22389          8634         10278               0               2  ...  29.0   \n",
       "22423         10205          8581               0               1  ...   9.0   \n",
       "22511          8633          9869               0               1  ...  17.0   \n",
       "23566          8634         10267               2               3  ...  19.0   \n",
       "23814          8634          9910               0               1  ...   NaN   \n",
       "23966          8634          9864               0               1  ...   NaN   \n",
       "24440          8634         10267               1               2  ...   NaN   \n",
       "\n",
       "        VCH    VCD   VCA   GBH    GBD   GBA   BSH   BSD   BSA  \n",
       "425    1.20   5.50  12.0  1.25   5.50   8.5  1.22   5.0  11.0  \n",
       "557    1.22   6.00  13.0  1.20   5.50  11.0  1.20   5.5  11.0  \n",
       "2069   1.20   6.00  21.0  1.22   5.50  13.0  1.20   5.5  15.0  \n",
       "2181   1.22   5.50  13.0  1.28   5.00  10.0  1.25   5.5  12.0  \n",
       "2537   1.22   6.50  17.0  1.22   6.00  11.0  1.20   6.0  13.0  \n",
       "2711   1.25   6.00  13.0  1.25   5.50  11.0  1.25   5.5  12.0  \n",
       "2828   1.22   6.50  17.0  1.20   6.00  13.0  1.18   6.0  17.0  \n",
       "2970   1.29   6.00  13.0  1.28   5.00  10.0  1.29   5.0  12.0  \n",
       "2972   1.12   9.50  29.0  1.15   7.00  15.0  1.14   7.0  21.0  \n",
       "3378   1.22   6.50  13.0  1.20   6.25  14.0  1.22   6.0  13.0  \n",
       "3910   1.20   7.00  18.0   NaN    NaN   NaN   NaN   NaN   NaN  \n",
       "4232   1.20   7.00  20.0   NaN    NaN   NaN   NaN   NaN   NaN  \n",
       "6771   1.25   6.25  17.0   NaN    NaN   NaN   NaN   NaN   NaN  \n",
       "8734   1.20   6.50  15.0  1.22   6.00  11.0  1.22   6.0  12.0  \n",
       "9329   1.25   6.25  13.0  1.22   6.35  11.0  1.22   6.0  12.0  \n",
       "9806   1.20   7.50  18.0   NaN    NaN   NaN   NaN   NaN   NaN  \n",
       "10094  1.12  10.00  22.0   NaN    NaN   NaN   NaN   NaN   NaN  \n",
       "10204  1.29   6.00  13.0   NaN    NaN   NaN   NaN   NaN   NaN  \n",
       "11550  1.25   5.75  13.0  1.25   5.25  12.0  1.25   5.5  11.0  \n",
       "11858  1.22   6.50  19.0  1.18   6.75  14.0  1.20   6.5  13.0  \n",
       "13926  1.17   6.50  17.0  1.17   6.00  12.0  1.17   6.0  15.0  \n",
       "14179  1.20   6.50  13.0  1.20   5.75  11.0  1.20   6.5  12.0  \n",
       "14304  1.22   6.50  13.0  1.22   5.75  11.0  1.22   5.5  12.0  \n",
       "14518  1.22   6.50  15.0  1.20   5.25  12.5  1.20   5.5  12.0  \n",
       "14587  1.15   8.50  20.0  1.15   6.75  12.0  1.14   7.5  13.0  \n",
       "15330  1.14   8.50  17.0   NaN    NaN   NaN   NaN   NaN   NaN  \n",
       "17849  1.28   4.50   9.0  1.25   5.00  10.0  1.22   5.0  11.0  \n",
       "18121  1.18   6.00  12.0  1.20   5.50  12.0  1.20   5.5  11.0  \n",
       "19504  1.15   7.50  19.0   NaN    NaN   NaN   NaN   NaN   NaN  \n",
       "19575  1.07  11.50  34.0   NaN    NaN   NaN   NaN   NaN   NaN  \n",
       "19813  1.17   6.50  11.0  1.20   6.00  11.0  1.20   6.5  15.0  \n",
       "20167  1.22   6.00  17.0  1.20   5.50  12.0  1.22   5.5  12.0  \n",
       "20580  1.20   6.50  15.0  1.18   5.75  12.0  1.17   6.5  17.0  \n",
       "20618  1.20   7.00  17.0  1.20   6.00  10.0  1.20   6.0  17.0  \n",
       "20641  1.22   6.50  15.0  1.20   5.75  11.0  1.20   6.5  13.0  \n",
       "21139  1.20   7.00  15.0   NaN    NaN   NaN   NaN   NaN   NaN  \n",
       "21349  1.13  10.00  21.0   NaN    NaN   NaN   NaN   NaN   NaN  \n",
       "21677  1.25   5.00  10.0  1.25   5.50  10.0  1.25   5.5   9.0  \n",
       "22389  1.06  12.00  34.0  1.07  10.00  23.0  1.07  11.0  26.0  \n",
       "22423  1.29   5.50  13.0  1.25   5.50  10.0  1.29   5.0   9.0  \n",
       "22511  1.18   7.50  19.0  1.15   7.50  14.0  1.18   7.0  13.0  \n",
       "23566  1.14   8.50  23.0   NaN    NaN   NaN   NaN   NaN   NaN  \n",
       "23814  1.15   9.00  23.0   NaN    NaN   NaN   NaN   NaN   NaN  \n",
       "23966  1.10  11.50  34.0   NaN    NaN   NaN   NaN   NaN   NaN  \n",
       "24440  1.15   9.50  17.0   NaN    NaN   NaN   NaN   NaN   NaN  \n",
       "\n",
       "[45 rows x 62 columns]"
      ],
      "text/html": "<div>\n<style scoped>\n    .dataframe tbody tr th:only-of-type {\n        vertical-align: middle;\n    }\n\n    .dataframe tbody tr th {\n        vertical-align: top;\n    }\n\n    .dataframe thead th {\n        text-align: right;\n    }\n</style>\n<table border=\"1\" class=\"dataframe\">\n  <thead>\n    <tr style=\"text-align: right;\">\n      <th></th>\n      <th>country_id</th>\n      <th>league_id</th>\n      <th>season</th>\n      <th>stage</th>\n      <th>date</th>\n      <th>match_id</th>\n      <th>home_team_id</th>\n      <th>away_team_id</th>\n      <th>home_team_goal</th>\n      <th>away_team_goal</th>\n      <th>...</th>\n      <th>SJA</th>\n      <th>VCH</th>\n      <th>VCD</th>\n      <th>VCA</th>\n      <th>GBH</th>\n      <th>GBD</th>\n      <th>GBA</th>\n      <th>BSH</th>\n      <th>BSD</th>\n      <th>BSA</th>\n    </tr>\n  </thead>\n  <tbody>\n    <tr>\n      <th>425</th>\n      <td>1</td>\n      <td>1</td>\n      <td>2009/2010</td>\n      <td>25</td>\n      <td>2/6/10 0:00</td>\n      <td>665698</td>\n      <td>8635</td>\n      <td>9997</td>\n      <td>1</td>\n      <td>2</td>\n      <td>...</td>\n      <td>13.0</td>\n      <td>1.20</td>\n      <td>5.50</td>\n      <td>12.0</td>\n      <td>1.25</td>\n      <td>5.50</td>\n      <td>8.5</td>\n      <td>1.22</td>\n      <td>5.0</td>\n      <td>11.0</td>\n    </tr>\n    <tr>\n      <th>557</th>\n      <td>1</td>\n      <td>1</td>\n      <td>2010/2011</td>\n      <td>14</td>\n      <td>11/6/10 0:00</td>\n      <td>838636</td>\n      <td>9985</td>\n      <td>6351</td>\n      <td>1</td>\n      <td>3</td>\n      <td>...</td>\n      <td>13.0</td>\n      <td>1.22</td>\n      <td>6.00</td>\n      <td>13.0</td>\n      <td>1.20</td>\n      <td>5.50</td>\n      <td>11.0</td>\n      <td>1.20</td>\n      <td>5.5</td>\n      <td>11.0</td>\n    </tr>\n    <tr>\n      <th>2069</th>\n      <td>1729</td>\n      <td>1729</td>\n      <td>2008/2009</td>\n      <td>6</td>\n      <td>9/27/08 0:00</td>\n      <td>489093</td>\n      <td>9825</td>\n      <td>8667</td>\n      <td>1</td>\n      <td>2</td>\n      <td>...</td>\n      <td>17.0</td>\n      <td>1.20</td>\n      <td>6.00</td>\n      <td>21.0</td>\n      <td>1.22</td>\n      <td>5.50</td>\n      <td>13.0</td>\n      <td>1.20</td>\n      <td>5.5</td>\n      <td>15.0</td>\n    </tr>\n    <tr>\n      <th>2181</th>\n      <td>1729</td>\n      <td>1729</td>\n      <td>2009/2010</td>\n      <td>16</td>\n      <td>12/12/09 0:00</td>\n      <td>658822</td>\n      <td>8586</td>\n      <td>8602</td>\n      <td>0</td>\n      <td>1</td>\n      <td>...</td>\n      <td>13.0</td>\n      <td>1.22</td>\n      <td>5.50</td>\n      <td>13.0</td>\n      <td>1.28</td>\n      <td>5.00</td>\n      <td>10.0</td>\n      <td>1.25</td>\n      <td>5.5</td>\n      <td>12.0</td>\n    </tr>\n    <tr>\n      <th>2537</th>\n      <td>1729</td>\n      <td>1729</td>\n      <td>2010/2011</td>\n      <td>13</td>\n      <td>11/14/10 0:00</td>\n      <td>839943</td>\n      <td>8455</td>\n      <td>8472</td>\n      <td>0</td>\n      <td>3</td>\n      <td>...</td>\n      <td>15.0</td>\n      <td>1.22</td>\n      <td>6.50</td>\n      <td>17.0</td>\n      <td>1.22</td>\n      <td>6.00</td>\n      <td>11.0</td>\n      <td>1.20</td>\n      <td>6.0</td>\n      <td>13.0</td>\n    </tr>\n    <tr>\n      <th>2711</th>\n      <td>1729</td>\n      <td>1729</td>\n      <td>2010/2011</td>\n      <td>3</td>\n      <td>8/28/10 0:00</td>\n      <td>839837</td>\n      <td>8586</td>\n      <td>8528</td>\n      <td>0</td>\n      <td>1</td>\n      <td>...</td>\n      <td>10.0</td>\n      <td>1.25</td>\n      <td>6.00</td>\n      <td>13.0</td>\n      <td>1.25</td>\n      <td>5.50</td>\n      <td>11.0</td>\n      <td>1.25</td>\n      <td>5.5</td>\n      <td>12.0</td>\n    </tr>\n    <tr>\n      <th>2828</th>\n      <td>1729</td>\n      <td>1729</td>\n      <td>2010/2011</td>\n      <td>6</td>\n      <td>9/25/10 0:00</td>\n      <td>839864</td>\n      <td>9825</td>\n      <td>8659</td>\n      <td>2</td>\n      <td>3</td>\n      <td>...</td>\n      <td>15.0</td>\n      <td>1.22</td>\n      <td>6.50</td>\n      <td>17.0</td>\n      <td>1.20</td>\n      <td>6.00</td>\n      <td>13.0</td>\n      <td>1.18</td>\n      <td>6.0</td>\n      <td>17.0</td>\n    </tr>\n    <tr>\n      <th>2970</th>\n      <td>1729</td>\n      <td>1729</td>\n      <td>2011/2012</td>\n      <td>19</td>\n      <td>12/31/11 0:00</td>\n      <td>1025137</td>\n      <td>8455</td>\n      <td>10252</td>\n      <td>1</td>\n      <td>3</td>\n      <td>...</td>\n      <td>13.0</td>\n      <td>1.29</td>\n      <td>6.00</td>\n      <td>13.0</td>\n      <td>1.28</td>\n      <td>5.00</td>\n      <td>10.0</td>\n      <td>1.29</td>\n      <td>5.0</td>\n      <td>12.0</td>\n    </tr>\n    <tr>\n      <th>2972</th>\n      <td>1729</td>\n      <td>1729</td>\n      <td>2011/2012</td>\n      <td>19</td>\n      <td>12/31/11 0:00</td>\n      <td>1025144</td>\n      <td>10260</td>\n      <td>8655</td>\n      <td>2</td>\n      <td>3</td>\n      <td>...</td>\n      <td>21.0</td>\n      <td>1.12</td>\n      <td>9.50</td>\n      <td>29.0</td>\n      <td>1.15</td>\n      <td>7.00</td>\n      <td>15.0</td>\n      <td>1.14</td>\n      <td>7.0</td>\n      <td>21.0</td>\n    </tr>\n    <tr>\n      <th>3378</th>\n      <td>1729</td>\n      <td>1729</td>\n      <td>2012/2013</td>\n      <td>21</td>\n      <td>1/2/13 0:00</td>\n      <td>1229317</td>\n      <td>8455</td>\n      <td>10172</td>\n      <td>0</td>\n      <td>1</td>\n      <td>...</td>\n      <td>15.0</td>\n      <td>1.22</td>\n      <td>6.50</td>\n      <td>13.0</td>\n      <td>1.20</td>\n      <td>6.25</td>\n      <td>14.0</td>\n      <td>1.22</td>\n      <td>6.0</td>\n      <td>13.0</td>\n    </tr>\n    <tr>\n      <th>3910</th>\n      <td>1729</td>\n      <td>1729</td>\n      <td>2013/2014</td>\n      <td>35</td>\n      <td>4/19/14 0:00</td>\n      <td>1475077</td>\n      <td>8455</td>\n      <td>8472</td>\n      <td>1</td>\n      <td>2</td>\n      <td>...</td>\n      <td>15.0</td>\n      <td>1.20</td>\n      <td>7.00</td>\n      <td>18.0</td>\n      <td>NaN</td>\n      <td>NaN</td>\n      <td>NaN</td>\n      <td>NaN</td>\n      <td>NaN</td>\n      <td>NaN</td>\n    </tr>\n    <tr>\n      <th>4232</th>\n      <td>1729</td>\n      <td>1729</td>\n      <td>2014/2015</td>\n      <td>3</td>\n      <td>8/30/14 0:00</td>\n      <td>1724006</td>\n      <td>8456</td>\n      <td>10194</td>\n      <td>0</td>\n      <td>1</td>\n      <td>...</td>\n      <td>12.0</td>\n      <td>1.20</td>\n      <td>7.00</td>\n      <td>20.0</td>\n      <td>NaN</td>\n      <td>NaN</td>\n      <td>NaN</td>\n      <td>NaN</td>\n      <td>NaN</td>\n      <td>NaN</td>\n    </tr>\n    <tr>\n      <th>6771</th>\n      <td>4769</td>\n      <td>4769</td>\n      <td>2013/2014</td>\n      <td>19</td>\n      <td>12/20/13 0:00</td>\n      <td>1468312</td>\n      <td>9829</td>\n      <td>9873</td>\n      <td>1</td>\n      <td>2</td>\n      <td>...</td>\n      <td>13.0</td>\n      <td>1.25</td>\n      <td>6.25</td>\n      <td>17.0</td>\n      <td>NaN</td>\n      <td>NaN</td>\n      <td>NaN</td>\n      <td>NaN</td>\n      <td>NaN</td>\n      <td>NaN</td>\n    </tr>\n    <tr>\n      <th>8734</th>\n      <td>7809</td>\n      <td>7809</td>\n      <td>2011/2012</td>\n      <td>1</td>\n      <td>8/7/11 0:00</td>\n      <td>1029765</td>\n      <td>9823</td>\n      <td>9788</td>\n      <td>0</td>\n      <td>1</td>\n      <td>...</td>\n      <td>13.0</td>\n      <td>1.20</td>\n      <td>6.50</td>\n      <td>15.0</td>\n      <td>1.22</td>\n      <td>6.00</td>\n      <td>11.0</td>\n      <td>1.22</td>\n      <td>6.0</td>\n      <td>12.0</td>\n    </tr>\n    <tr>\n      <th>9329</th>\n      <td>7809</td>\n      <td>7809</td>\n      <td>2012/2013</td>\n      <td>9</td>\n      <td>10/28/12 0:00</td>\n      <td>1239539</td>\n      <td>9823</td>\n      <td>8178</td>\n      <td>1</td>\n      <td>2</td>\n      <td>...</td>\n      <td>12.0</td>\n      <td>1.25</td>\n      <td>6.25</td>\n      <td>13.0</td>\n      <td>1.22</td>\n      <td>6.35</td>\n      <td>11.0</td>\n      <td>1.22</td>\n      <td>6.0</td>\n      <td>12.0</td>\n    </tr>\n    <tr>\n      <th>9806</th>\n      <td>7809</td>\n      <td>7809</td>\n      <td>2014/2015</td>\n      <td>26</td>\n      <td>3/22/15 0:00</td>\n      <td>1732946</td>\n      <td>9823</td>\n      <td>9788</td>\n      <td>0</td>\n      <td>2</td>\n      <td>...</td>\n      <td>NaN</td>\n      <td>1.20</td>\n      <td>7.50</td>\n      <td>18.0</td>\n      <td>NaN</td>\n      <td>NaN</td>\n      <td>NaN</td>\n      <td>NaN</td>\n      <td>NaN</td>\n      <td>NaN</td>\n    </tr>\n    <tr>\n      <th>10094</th>\n      <td>7809</td>\n      <td>7809</td>\n      <td>2015/2016</td>\n      <td>24</td>\n      <td>3/2/16 0:00</td>\n      <td>2002300</td>\n      <td>9823</td>\n      <td>9905</td>\n      <td>1</td>\n      <td>2</td>\n      <td>...</td>\n      <td>NaN</td>\n      <td>1.12</td>\n      <td>10.00</td>\n      <td>22.0</td>\n      <td>NaN</td>\n      <td>NaN</td>\n      <td>NaN</td>\n      <td>NaN</td>\n      <td>NaN</td>\n      <td>NaN</td>\n    </tr>\n    <tr>\n      <th>10204</th>\n      <td>7809</td>\n      <td>7809</td>\n      <td>2015/2016</td>\n      <td>4</td>\n      <td>9/12/15 0:00</td>\n      <td>2002117</td>\n      <td>8178</td>\n      <td>8262</td>\n      <td>0</td>\n      <td>1</td>\n      <td>...</td>\n      <td>NaN</td>\n      <td>1.29</td>\n      <td>6.00</td>\n      <td>13.0</td>\n      <td>NaN</td>\n      <td>NaN</td>\n      <td>NaN</td>\n      <td>NaN</td>\n      <td>NaN</td>\n      <td>NaN</td>\n    </tr>\n    <tr>\n      <th>11550</th>\n      <td>10257</td>\n      <td>10257</td>\n      <td>2011/2012</td>\n      <td>23</td>\n      <td>2/12/12 0:00</td>\n      <td>1083393</td>\n      <td>8636</td>\n      <td>6269</td>\n      <td>0</td>\n      <td>1</td>\n      <td>...</td>\n      <td>13.0</td>\n      <td>1.25</td>\n      <td>5.75</td>\n      <td>13.0</td>\n      <td>1.25</td>\n      <td>5.25</td>\n      <td>12.0</td>\n      <td>1.25</td>\n      <td>5.5</td>\n      <td>11.0</td>\n    </tr>\n    <tr>\n      <th>11858</th>\n      <td>10257</td>\n      <td>10257</td>\n      <td>2012/2013</td>\n      <td>19</td>\n      <td>1/6/13 0:00</td>\n      <td>1287151</td>\n      <td>9885</td>\n      <td>9882</td>\n      <td>1</td>\n      <td>2</td>\n      <td>...</td>\n      <td>13.0</td>\n      <td>1.22</td>\n      <td>6.50</td>\n      <td>19.0</td>\n      <td>1.18</td>\n      <td>6.75</td>\n      <td>14.0</td>\n      <td>1.20</td>\n      <td>6.5</td>\n      <td>13.0</td>\n    </tr>\n    <tr>\n      <th>13926</th>\n      <td>13274</td>\n      <td>13274</td>\n      <td>2010/2011</td>\n      <td>13</td>\n      <td>11/7/10 0:00</td>\n      <td>836373</td>\n      <td>8593</td>\n      <td>10217</td>\n      <td>0</td>\n      <td>1</td>\n      <td>...</td>\n      <td>17.0</td>\n      <td>1.17</td>\n      <td>6.50</td>\n      <td>17.0</td>\n      <td>1.17</td>\n      <td>6.00</td>\n      <td>12.0</td>\n      <td>1.17</td>\n      <td>6.0</td>\n      <td>15.0</td>\n    </tr>\n    <tr>\n      <th>14179</th>\n      <td>13274</td>\n      <td>13274</td>\n      <td>2010/2011</td>\n      <td>8</td>\n      <td>10/3/10 0:00</td>\n      <td>836273</td>\n      <td>8593</td>\n      <td>9908</td>\n      <td>1</td>\n      <td>2</td>\n      <td>...</td>\n      <td>11.0</td>\n      <td>1.20</td>\n      <td>6.50</td>\n      <td>13.0</td>\n      <td>1.20</td>\n      <td>5.75</td>\n      <td>11.0</td>\n      <td>1.20</td>\n      <td>6.5</td>\n      <td>12.0</td>\n    </tr>\n    <tr>\n      <th>14304</th>\n      <td>13274</td>\n      <td>13274</td>\n      <td>2011/2012</td>\n      <td>20</td>\n      <td>2/5/12 0:00</td>\n      <td>1028713</td>\n      <td>8593</td>\n      <td>9908</td>\n      <td>0</td>\n      <td>2</td>\n      <td>...</td>\n      <td>13.0</td>\n      <td>1.22</td>\n      <td>6.50</td>\n      <td>13.0</td>\n      <td>1.22</td>\n      <td>5.75</td>\n      <td>11.0</td>\n      <td>1.22</td>\n      <td>5.5</td>\n      <td>12.0</td>\n    </tr>\n    <tr>\n      <th>14518</th>\n      <td>13274</td>\n      <td>13274</td>\n      <td>2012/2013</td>\n      <td>11</td>\n      <td>11/4/12 0:00</td>\n      <td>1222847</td>\n      <td>10229</td>\n      <td>9839</td>\n      <td>1</td>\n      <td>2</td>\n      <td>...</td>\n      <td>12.0</td>\n      <td>1.22</td>\n      <td>6.50</td>\n      <td>15.0</td>\n      <td>1.20</td>\n      <td>5.25</td>\n      <td>12.5</td>\n      <td>1.20</td>\n      <td>5.5</td>\n      <td>12.0</td>\n    </tr>\n    <tr>\n      <th>14587</th>\n      <td>13274</td>\n      <td>13274</td>\n      <td>2012/2013</td>\n      <td>19</td>\n      <td>1/18/13 0:00</td>\n      <td>1223043</td>\n      <td>8640</td>\n      <td>6413</td>\n      <td>1</td>\n      <td>3</td>\n      <td>...</td>\n      <td>13.0</td>\n      <td>1.15</td>\n      <td>8.50</td>\n      <td>20.0</td>\n      <td>1.15</td>\n      <td>6.75</td>\n      <td>12.0</td>\n      <td>1.14</td>\n      <td>7.5</td>\n      <td>13.0</td>\n    </tr>\n    <tr>\n      <th>15330</th>\n      <td>13274</td>\n      <td>13274</td>\n      <td>2014/2015</td>\n      <td>31</td>\n      <td>4/19/15 0:00</td>\n      <td>1712669</td>\n      <td>10235</td>\n      <td>6433</td>\n      <td>0</td>\n      <td>1</td>\n      <td>...</td>\n      <td>NaN</td>\n      <td>1.14</td>\n      <td>8.50</td>\n      <td>17.0</td>\n      <td>NaN</td>\n      <td>NaN</td>\n      <td>NaN</td>\n      <td>NaN</td>\n      <td>NaN</td>\n      <td>NaN</td>\n    </tr>\n    <tr>\n      <th>17849</th>\n      <td>17642</td>\n      <td>17642</td>\n      <td>2008/2009</td>\n      <td>6</td>\n      <td>10/25/08 0:00</td>\n      <td>509169</td>\n      <td>9773</td>\n      <td>6421</td>\n      <td>2</td>\n      <td>3</td>\n      <td>...</td>\n      <td>11.0</td>\n      <td>1.28</td>\n      <td>4.50</td>\n      <td>9.0</td>\n      <td>1.25</td>\n      <td>5.00</td>\n      <td>10.0</td>\n      <td>1.22</td>\n      <td>5.0</td>\n      <td>11.0</td>\n    </tr>\n    <tr>\n      <th>18121</th>\n      <td>17642</td>\n      <td>17642</td>\n      <td>2010/2011</td>\n      <td>1</td>\n      <td>8/15/10 0:00</td>\n      <td>859645</td>\n      <td>9772</td>\n      <td>10215</td>\n      <td>1</td>\n      <td>2</td>\n      <td>...</td>\n      <td>15.0</td>\n      <td>1.18</td>\n      <td>6.00</td>\n      <td>12.0</td>\n      <td>1.20</td>\n      <td>5.50</td>\n      <td>12.0</td>\n      <td>1.20</td>\n      <td>5.5</td>\n      <td>11.0</td>\n    </tr>\n    <tr>\n      <th>19504</th>\n      <td>17642</td>\n      <td>17642</td>\n      <td>2015/2016</td>\n      <td>21</td>\n      <td>2/7/16 0:00</td>\n      <td>2015989</td>\n      <td>9773</td>\n      <td>158085</td>\n      <td>1</td>\n      <td>2</td>\n      <td>...</td>\n      <td>NaN</td>\n      <td>1.15</td>\n      <td>7.50</td>\n      <td>19.0</td>\n      <td>NaN</td>\n      <td>NaN</td>\n      <td>NaN</td>\n      <td>NaN</td>\n      <td>NaN</td>\n      <td>NaN</td>\n    </tr>\n    <tr>\n      <th>19575</th>\n      <td>17642</td>\n      <td>17642</td>\n      <td>2015/2016</td>\n      <td>28</td>\n      <td>4/4/16 0:00</td>\n      <td>2016060</td>\n      <td>9773</td>\n      <td>188163</td>\n      <td>0</td>\n      <td>1</td>\n      <td>...</td>\n      <td>NaN</td>\n      <td>1.07</td>\n      <td>11.50</td>\n      <td>34.0</td>\n      <td>NaN</td>\n      <td>NaN</td>\n      <td>NaN</td>\n      <td>NaN</td>\n      <td>NaN</td>\n      <td>NaN</td>\n    </tr>\n    <tr>\n      <th>19813</th>\n      <td>19694</td>\n      <td>19694</td>\n      <td>2008/2009</td>\n      <td>28</td>\n      <td>3/4/09 0:00</td>\n      <td>490143</td>\n      <td>8548</td>\n      <td>8066</td>\n      <td>0</td>\n      <td>1</td>\n      <td>...</td>\n      <td>13.0</td>\n      <td>1.17</td>\n      <td>6.50</td>\n      <td>11.0</td>\n      <td>1.20</td>\n      <td>6.00</td>\n      <td>11.0</td>\n      <td>1.20</td>\n      <td>6.5</td>\n      <td>15.0</td>\n    </tr>\n    <tr>\n      <th>20167</th>\n      <td>19694</td>\n      <td>19694</td>\n      <td>2010/2011</td>\n      <td>12</td>\n      <td>11/10/10 0:00</td>\n      <td>840295</td>\n      <td>8548</td>\n      <td>10251</td>\n      <td>0</td>\n      <td>3</td>\n      <td>...</td>\n      <td>10.0</td>\n      <td>1.22</td>\n      <td>6.00</td>\n      <td>17.0</td>\n      <td>1.20</td>\n      <td>5.50</td>\n      <td>12.0</td>\n      <td>1.22</td>\n      <td>5.5</td>\n      <td>12.0</td>\n    </tr>\n    <tr>\n      <th>20580</th>\n      <td>19694</td>\n      <td>19694</td>\n      <td>2011/2012</td>\n      <td>5</td>\n      <td>8/21/11 0:00</td>\n      <td>1024215</td>\n      <td>9925</td>\n      <td>8467</td>\n      <td>0</td>\n      <td>1</td>\n      <td>...</td>\n      <td>12.0</td>\n      <td>1.20</td>\n      <td>6.50</td>\n      <td>15.0</td>\n      <td>1.18</td>\n      <td>5.75</td>\n      <td>12.0</td>\n      <td>1.17</td>\n      <td>6.5</td>\n      <td>17.0</td>\n    </tr>\n    <tr>\n      <th>20618</th>\n      <td>19694</td>\n      <td>19694</td>\n      <td>2012/2013</td>\n      <td>11</td>\n      <td>10/27/12 0:00</td>\n      <td>1229076</td>\n      <td>9925</td>\n      <td>8597</td>\n      <td>0</td>\n      <td>2</td>\n      <td>...</td>\n      <td>12.0</td>\n      <td>1.20</td>\n      <td>7.00</td>\n      <td>17.0</td>\n      <td>1.20</td>\n      <td>6.00</td>\n      <td>10.0</td>\n      <td>1.20</td>\n      <td>6.0</td>\n      <td>17.0</td>\n    </tr>\n    <tr>\n      <th>20641</th>\n      <td>19694</td>\n      <td>19694</td>\n      <td>2012/2013</td>\n      <td>15</td>\n      <td>11/24/12 0:00</td>\n      <td>1229134</td>\n      <td>9925</td>\n      <td>8066</td>\n      <td>0</td>\n      <td>1</td>\n      <td>...</td>\n      <td>12.0</td>\n      <td>1.22</td>\n      <td>6.50</td>\n      <td>15.0</td>\n      <td>1.20</td>\n      <td>5.75</td>\n      <td>11.0</td>\n      <td>1.20</td>\n      <td>6.5</td>\n      <td>13.0</td>\n    </tr>\n    <tr>\n      <th>21139</th>\n      <td>19694</td>\n      <td>19694</td>\n      <td>2014/2015</td>\n      <td>21</td>\n      <td>3/4/15 0:00</td>\n      <td>1726139</td>\n      <td>9925</td>\n      <td>8467</td>\n      <td>0</td>\n      <td>1</td>\n      <td>...</td>\n      <td>NaN</td>\n      <td>1.20</td>\n      <td>7.00</td>\n      <td>15.0</td>\n      <td>NaN</td>\n      <td>NaN</td>\n      <td>NaN</td>\n      <td>NaN</td>\n      <td>NaN</td>\n      <td>NaN</td>\n    </tr>\n    <tr>\n      <th>21349</th>\n      <td>19694</td>\n      <td>19694</td>\n      <td>2015/2016</td>\n      <td>19</td>\n      <td>12/19/15 0:00</td>\n      <td>1990951</td>\n      <td>9925</td>\n      <td>9927</td>\n      <td>1</td>\n      <td>2</td>\n      <td>...</td>\n      <td>NaN</td>\n      <td>1.13</td>\n      <td>10.00</td>\n      <td>21.0</td>\n      <td>NaN</td>\n      <td>NaN</td>\n      <td>NaN</td>\n      <td>NaN</td>\n      <td>NaN</td>\n      <td>NaN</td>\n    </tr>\n    <tr>\n      <th>21677</th>\n      <td>21518</td>\n      <td>21518</td>\n      <td>2008/2009</td>\n      <td>24</td>\n      <td>2/21/09 0:00</td>\n      <td>530493</td>\n      <td>8634</td>\n      <td>8558</td>\n      <td>1</td>\n      <td>2</td>\n      <td>...</td>\n      <td>13.0</td>\n      <td>1.25</td>\n      <td>5.00</td>\n      <td>10.0</td>\n      <td>1.25</td>\n      <td>5.50</td>\n      <td>10.0</td>\n      <td>1.25</td>\n      <td>5.5</td>\n      <td>9.0</td>\n    </tr>\n    <tr>\n      <th>22389</th>\n      <td>21518</td>\n      <td>21518</td>\n      <td>2010/2011</td>\n      <td>2</td>\n      <td>9/11/10 0:00</td>\n      <td>875496</td>\n      <td>8634</td>\n      <td>10278</td>\n      <td>0</td>\n      <td>2</td>\n      <td>...</td>\n      <td>29.0</td>\n      <td>1.06</td>\n      <td>12.00</td>\n      <td>34.0</td>\n      <td>1.07</td>\n      <td>10.00</td>\n      <td>23.0</td>\n      <td>1.07</td>\n      <td>11.0</td>\n      <td>26.0</td>\n    </tr>\n    <tr>\n      <th>22423</th>\n      <td>21518</td>\n      <td>21518</td>\n      <td>2010/2011</td>\n      <td>22</td>\n      <td>2/5/11 0:00</td>\n      <td>875885</td>\n      <td>10205</td>\n      <td>8581</td>\n      <td>0</td>\n      <td>1</td>\n      <td>...</td>\n      <td>9.0</td>\n      <td>1.29</td>\n      <td>5.50</td>\n      <td>13.0</td>\n      <td>1.25</td>\n      <td>5.50</td>\n      <td>10.0</td>\n      <td>1.29</td>\n      <td>5.0</td>\n      <td>9.0</td>\n    </tr>\n    <tr>\n      <th>22511</th>\n      <td>21518</td>\n      <td>21518</td>\n      <td>2010/2011</td>\n      <td>30</td>\n      <td>4/2/11 0:00</td>\n      <td>875912</td>\n      <td>8633</td>\n      <td>9869</td>\n      <td>0</td>\n      <td>1</td>\n      <td>...</td>\n      <td>17.0</td>\n      <td>1.18</td>\n      <td>7.50</td>\n      <td>19.0</td>\n      <td>1.15</td>\n      <td>7.50</td>\n      <td>14.0</td>\n      <td>1.18</td>\n      <td>7.0</td>\n      <td>13.0</td>\n    </tr>\n    <tr>\n      <th>23566</th>\n      <td>21518</td>\n      <td>21518</td>\n      <td>2013/2014</td>\n      <td>22</td>\n      <td>2/1/14 0:00</td>\n      <td>1506031</td>\n      <td>8634</td>\n      <td>10267</td>\n      <td>2</td>\n      <td>3</td>\n      <td>...</td>\n      <td>19.0</td>\n      <td>1.14</td>\n      <td>8.50</td>\n      <td>23.0</td>\n      <td>NaN</td>\n      <td>NaN</td>\n      <td>NaN</td>\n      <td>NaN</td>\n      <td>NaN</td>\n      <td>NaN</td>\n    </tr>\n    <tr>\n      <th>23814</th>\n      <td>21518</td>\n      <td>21518</td>\n      <td>2014/2015</td>\n      <td>10</td>\n      <td>11/1/14 0:00</td>\n      <td>1778131</td>\n      <td>8634</td>\n      <td>9910</td>\n      <td>0</td>\n      <td>1</td>\n      <td>...</td>\n      <td>NaN</td>\n      <td>1.15</td>\n      <td>9.00</td>\n      <td>23.0</td>\n      <td>NaN</td>\n      <td>NaN</td>\n      <td>NaN</td>\n      <td>NaN</td>\n      <td>NaN</td>\n      <td>NaN</td>\n    </tr>\n    <tr>\n      <th>23966</th>\n      <td>21518</td>\n      <td>21518</td>\n      <td>2014/2015</td>\n      <td>24</td>\n      <td>2/21/15 0:00</td>\n      <td>1778273</td>\n      <td>8634</td>\n      <td>9864</td>\n      <td>0</td>\n      <td>1</td>\n      <td>...</td>\n      <td>NaN</td>\n      <td>1.10</td>\n      <td>11.50</td>\n      <td>34.0</td>\n      <td>NaN</td>\n      <td>NaN</td>\n      <td>NaN</td>\n      <td>NaN</td>\n      <td>NaN</td>\n      <td>NaN</td>\n    </tr>\n    <tr>\n      <th>24440</th>\n      <td>21518</td>\n      <td>21518</td>\n      <td>2015/2016</td>\n      <td>33</td>\n      <td>4/17/16 0:00</td>\n      <td>2030481</td>\n      <td>8634</td>\n      <td>10267</td>\n      <td>1</td>\n      <td>2</td>\n      <td>...</td>\n      <td>NaN</td>\n      <td>1.15</td>\n      <td>9.50</td>\n      <td>17.0</td>\n      <td>NaN</td>\n      <td>NaN</td>\n      <td>NaN</td>\n      <td>NaN</td>\n      <td>NaN</td>\n      <td>NaN</td>\n    </tr>\n  </tbody>\n</table>\n<p>45 rows × 62 columns</p>\n</div>"
     },
     "metadata": {},
     "execution_count": 24
    }
   ],
   "source": [
    "df.loc[(df['B365H']*10 < df['B365A']) & (df['home_team_goal'] < df['away_team_goal'] )]"
   ]
  },
  {
   "cell_type": "code",
   "execution_count": 13,
   "metadata": {},
   "outputs": [
    {
     "output_type": "execute_result",
     "data": {
      "text/plain": [
       "   team_id     team_long_name team_short_name\n",
       "0     9987           KRC Genk             GEN\n",
       "1     9993       Beerschot AC             BAC\n",
       "2    10000   SV Zulte-Waregem             ZUL\n",
       "3     9994   Sporting Lokeren             LOK\n",
       "4     9984  KSV Cercle Brugge             CEB"
      ],
      "text/html": "<div>\n<style scoped>\n    .dataframe tbody tr th:only-of-type {\n        vertical-align: middle;\n    }\n\n    .dataframe tbody tr th {\n        vertical-align: top;\n    }\n\n    .dataframe thead th {\n        text-align: right;\n    }\n</style>\n<table border=\"1\" class=\"dataframe\">\n  <thead>\n    <tr style=\"text-align: right;\">\n      <th></th>\n      <th>team_id</th>\n      <th>team_long_name</th>\n      <th>team_short_name</th>\n    </tr>\n  </thead>\n  <tbody>\n    <tr>\n      <th>0</th>\n      <td>9987</td>\n      <td>KRC Genk</td>\n      <td>GEN</td>\n    </tr>\n    <tr>\n      <th>1</th>\n      <td>9993</td>\n      <td>Beerschot AC</td>\n      <td>BAC</td>\n    </tr>\n    <tr>\n      <th>2</th>\n      <td>10000</td>\n      <td>SV Zulte-Waregem</td>\n      <td>ZUL</td>\n    </tr>\n    <tr>\n      <th>3</th>\n      <td>9994</td>\n      <td>Sporting Lokeren</td>\n      <td>LOK</td>\n    </tr>\n    <tr>\n      <th>4</th>\n      <td>9984</td>\n      <td>KSV Cercle Brugge</td>\n      <td>CEB</td>\n    </tr>\n  </tbody>\n</table>\n</div>"
     },
     "metadata": {},
     "execution_count": 13
    }
   ],
   "source": [
    "team_df[:5]"
   ]
  },
  {
   "cell_type": "code",
   "execution_count": 18,
   "metadata": {},
   "outputs": [
    {
     "output_type": "execute_result",
     "data": {
      "text/plain": [
       "     team_id   team_long_name team_short_name\n",
       "269     9906  Atl̩tico Madrid             AMA"
      ],
      "text/html": "<div>\n<style scoped>\n    .dataframe tbody tr th:only-of-type {\n        vertical-align: middle;\n    }\n\n    .dataframe tbody tr th {\n        vertical-align: top;\n    }\n\n    .dataframe thead th {\n        text-align: right;\n    }\n</style>\n<table border=\"1\" class=\"dataframe\">\n  <thead>\n    <tr style=\"text-align: right;\">\n      <th></th>\n      <th>team_id</th>\n      <th>team_long_name</th>\n      <th>team_short_name</th>\n    </tr>\n  </thead>\n  <tbody>\n    <tr>\n      <th>269</th>\n      <td>9906</td>\n      <td>Atl̩tico Madrid</td>\n      <td>AMA</td>\n    </tr>\n  </tbody>\n</table>\n</div>"
     },
     "metadata": {},
     "execution_count": 18
    }
   ],
   "source": [
    "team_df.loc[team_df['team_id'] == 9906]"
   ]
  },
  {
   "cell_type": "code",
   "execution_count": 20,
   "metadata": {},
   "outputs": [
    {
     "output_type": "execute_result",
     "data": {
      "text/plain": [
       "     team_id team_long_name team_short_name\n",
       "275     8581     Levante UD             LEV"
      ],
      "text/html": "<div>\n<style scoped>\n    .dataframe tbody tr th:only-of-type {\n        vertical-align: middle;\n    }\n\n    .dataframe tbody tr th {\n        vertical-align: top;\n    }\n\n    .dataframe thead th {\n        text-align: right;\n    }\n</style>\n<table border=\"1\" class=\"dataframe\">\n  <thead>\n    <tr style=\"text-align: right;\">\n      <th></th>\n      <th>team_id</th>\n      <th>team_long_name</th>\n      <th>team_short_name</th>\n    </tr>\n  </thead>\n  <tbody>\n    <tr>\n      <th>275</th>\n      <td>8581</td>\n      <td>Levante UD</td>\n      <td>LEV</td>\n    </tr>\n  </tbody>\n</table>\n</div>"
     },
     "metadata": {},
     "execution_count": 20
    }
   ],
   "source": [
    "team_df.loc[team_df['team_id'] == 8581]"
   ]
  },
  {
   "cell_type": "code",
   "execution_count": 27,
   "metadata": {},
   "outputs": [
    {
     "output_type": "execute_result",
     "data": {
      "text/plain": [
       "       country_id  league_id     season  stage           date  match_id  \\\n",
       "164             1          1  2008/2009     26   3/14/09 0:00    493036   \n",
       "217             1          1  2008/2009     31   4/26/09 0:00    493080   \n",
       "299             1          1  2008/2009      9  10/25/08 0:00    492556   \n",
       "791             1          1  2011/2012     13   11/5/11 0:00   1032791   \n",
       "923             1          1  2011/2012     28    3/3/12 0:00   1032916   \n",
       "...           ...        ...        ...    ...            ...       ...   \n",
       "25974       24558      24558  2015/2016      9   9/22/15 0:00   1992091   \n",
       "25975       24558      24558  2015/2016      9   9/23/15 0:00   1992092   \n",
       "25976       24558      24558  2015/2016      9   9/23/15 0:00   1992093   \n",
       "25977       24558      24558  2015/2016      9   9/22/15 0:00   1992094   \n",
       "25978       24558      24558  2015/2016      9   9/23/15 0:00   1992095   \n",
       "\n",
       "       home_team_id  away_team_id  home_team_goal  away_team_goal  ...  SJA  \\\n",
       "164            9993          9998               2               0  ...  NaN   \n",
       "217            9984          9987               1               2  ...  NaN   \n",
       "299            9998          9993               0               0  ...  NaN   \n",
       "791            9993          9998               2               0  ...  NaN   \n",
       "923            9998          9993               4               2  ...  NaN   \n",
       "...             ...           ...             ...             ...  ...  ...   \n",
       "25974         10190         10191               1               0  ...  NaN   \n",
       "25975          9824         10199               1               2  ...  NaN   \n",
       "25976          9956         10179               2               0  ...  NaN   \n",
       "25977          7896         10243               0               0  ...  NaN   \n",
       "25978         10192          9931               4               3  ...  NaN   \n",
       "\n",
       "       VCH  VCD  VCA  GBH  GBD  GBA  BSH  BSD  BSA  \n",
       "164    NaN  NaN  NaN  NaN  NaN  NaN  NaN  NaN  NaN  \n",
       "217    NaN  NaN  NaN  NaN  NaN  NaN  NaN  NaN  NaN  \n",
       "299    NaN  NaN  NaN  NaN  NaN  NaN  NaN  NaN  NaN  \n",
       "791    NaN  NaN  NaN  NaN  NaN  NaN  NaN  NaN  NaN  \n",
       "923    NaN  NaN  NaN  NaN  NaN  NaN  NaN  NaN  NaN  \n",
       "...    ...  ...  ...  ...  ...  ...  ...  ...  ...  \n",
       "25974  NaN  NaN  NaN  NaN  NaN  NaN  NaN  NaN  NaN  \n",
       "25975  NaN  NaN  NaN  NaN  NaN  NaN  NaN  NaN  NaN  \n",
       "25976  NaN  NaN  NaN  NaN  NaN  NaN  NaN  NaN  NaN  \n",
       "25977  NaN  NaN  NaN  NaN  NaN  NaN  NaN  NaN  NaN  \n",
       "25978  NaN  NaN  NaN  NaN  NaN  NaN  NaN  NaN  NaN  \n",
       "\n",
       "[3387 rows x 62 columns]"
      ],
      "text/html": "<div>\n<style scoped>\n    .dataframe tbody tr th:only-of-type {\n        vertical-align: middle;\n    }\n\n    .dataframe tbody tr th {\n        vertical-align: top;\n    }\n\n    .dataframe thead th {\n        text-align: right;\n    }\n</style>\n<table border=\"1\" class=\"dataframe\">\n  <thead>\n    <tr style=\"text-align: right;\">\n      <th></th>\n      <th>country_id</th>\n      <th>league_id</th>\n      <th>season</th>\n      <th>stage</th>\n      <th>date</th>\n      <th>match_id</th>\n      <th>home_team_id</th>\n      <th>away_team_id</th>\n      <th>home_team_goal</th>\n      <th>away_team_goal</th>\n      <th>...</th>\n      <th>SJA</th>\n      <th>VCH</th>\n      <th>VCD</th>\n      <th>VCA</th>\n      <th>GBH</th>\n      <th>GBD</th>\n      <th>GBA</th>\n      <th>BSH</th>\n      <th>BSD</th>\n      <th>BSA</th>\n    </tr>\n  </thead>\n  <tbody>\n    <tr>\n      <th>164</th>\n      <td>1</td>\n      <td>1</td>\n      <td>2008/2009</td>\n      <td>26</td>\n      <td>3/14/09 0:00</td>\n      <td>493036</td>\n      <td>9993</td>\n      <td>9998</td>\n      <td>2</td>\n      <td>0</td>\n      <td>...</td>\n      <td>NaN</td>\n      <td>NaN</td>\n      <td>NaN</td>\n      <td>NaN</td>\n      <td>NaN</td>\n      <td>NaN</td>\n      <td>NaN</td>\n      <td>NaN</td>\n      <td>NaN</td>\n      <td>NaN</td>\n    </tr>\n    <tr>\n      <th>217</th>\n      <td>1</td>\n      <td>1</td>\n      <td>2008/2009</td>\n      <td>31</td>\n      <td>4/26/09 0:00</td>\n      <td>493080</td>\n      <td>9984</td>\n      <td>9987</td>\n      <td>1</td>\n      <td>2</td>\n      <td>...</td>\n      <td>NaN</td>\n      <td>NaN</td>\n      <td>NaN</td>\n      <td>NaN</td>\n      <td>NaN</td>\n      <td>NaN</td>\n      <td>NaN</td>\n      <td>NaN</td>\n      <td>NaN</td>\n      <td>NaN</td>\n    </tr>\n    <tr>\n      <th>299</th>\n      <td>1</td>\n      <td>1</td>\n      <td>2008/2009</td>\n      <td>9</td>\n      <td>10/25/08 0:00</td>\n      <td>492556</td>\n      <td>9998</td>\n      <td>9993</td>\n      <td>0</td>\n      <td>0</td>\n      <td>...</td>\n      <td>NaN</td>\n      <td>NaN</td>\n      <td>NaN</td>\n      <td>NaN</td>\n      <td>NaN</td>\n      <td>NaN</td>\n      <td>NaN</td>\n      <td>NaN</td>\n      <td>NaN</td>\n      <td>NaN</td>\n    </tr>\n    <tr>\n      <th>791</th>\n      <td>1</td>\n      <td>1</td>\n      <td>2011/2012</td>\n      <td>13</td>\n      <td>11/5/11 0:00</td>\n      <td>1032791</td>\n      <td>9993</td>\n      <td>9998</td>\n      <td>2</td>\n      <td>0</td>\n      <td>...</td>\n      <td>NaN</td>\n      <td>NaN</td>\n      <td>NaN</td>\n      <td>NaN</td>\n      <td>NaN</td>\n      <td>NaN</td>\n      <td>NaN</td>\n      <td>NaN</td>\n      <td>NaN</td>\n      <td>NaN</td>\n    </tr>\n    <tr>\n      <th>923</th>\n      <td>1</td>\n      <td>1</td>\n      <td>2011/2012</td>\n      <td>28</td>\n      <td>3/3/12 0:00</td>\n      <td>1032916</td>\n      <td>9998</td>\n      <td>9993</td>\n      <td>4</td>\n      <td>2</td>\n      <td>...</td>\n      <td>NaN</td>\n      <td>NaN</td>\n      <td>NaN</td>\n      <td>NaN</td>\n      <td>NaN</td>\n      <td>NaN</td>\n      <td>NaN</td>\n      <td>NaN</td>\n      <td>NaN</td>\n      <td>NaN</td>\n    </tr>\n    <tr>\n      <th>...</th>\n      <td>...</td>\n      <td>...</td>\n      <td>...</td>\n      <td>...</td>\n      <td>...</td>\n      <td>...</td>\n      <td>...</td>\n      <td>...</td>\n      <td>...</td>\n      <td>...</td>\n      <td>...</td>\n      <td>...</td>\n      <td>...</td>\n      <td>...</td>\n      <td>...</td>\n      <td>...</td>\n      <td>...</td>\n      <td>...</td>\n      <td>...</td>\n      <td>...</td>\n      <td>...</td>\n    </tr>\n    <tr>\n      <th>25974</th>\n      <td>24558</td>\n      <td>24558</td>\n      <td>2015/2016</td>\n      <td>9</td>\n      <td>9/22/15 0:00</td>\n      <td>1992091</td>\n      <td>10190</td>\n      <td>10191</td>\n      <td>1</td>\n      <td>0</td>\n      <td>...</td>\n      <td>NaN</td>\n      <td>NaN</td>\n      <td>NaN</td>\n      <td>NaN</td>\n      <td>NaN</td>\n      <td>NaN</td>\n      <td>NaN</td>\n      <td>NaN</td>\n      <td>NaN</td>\n      <td>NaN</td>\n    </tr>\n    <tr>\n      <th>25975</th>\n      <td>24558</td>\n      <td>24558</td>\n      <td>2015/2016</td>\n      <td>9</td>\n      <td>9/23/15 0:00</td>\n      <td>1992092</td>\n      <td>9824</td>\n      <td>10199</td>\n      <td>1</td>\n      <td>2</td>\n      <td>...</td>\n      <td>NaN</td>\n      <td>NaN</td>\n      <td>NaN</td>\n      <td>NaN</td>\n      <td>NaN</td>\n      <td>NaN</td>\n      <td>NaN</td>\n      <td>NaN</td>\n      <td>NaN</td>\n      <td>NaN</td>\n    </tr>\n    <tr>\n      <th>25976</th>\n      <td>24558</td>\n      <td>24558</td>\n      <td>2015/2016</td>\n      <td>9</td>\n      <td>9/23/15 0:00</td>\n      <td>1992093</td>\n      <td>9956</td>\n      <td>10179</td>\n      <td>2</td>\n      <td>0</td>\n      <td>...</td>\n      <td>NaN</td>\n      <td>NaN</td>\n      <td>NaN</td>\n      <td>NaN</td>\n      <td>NaN</td>\n      <td>NaN</td>\n      <td>NaN</td>\n      <td>NaN</td>\n      <td>NaN</td>\n      <td>NaN</td>\n    </tr>\n    <tr>\n      <th>25977</th>\n      <td>24558</td>\n      <td>24558</td>\n      <td>2015/2016</td>\n      <td>9</td>\n      <td>9/22/15 0:00</td>\n      <td>1992094</td>\n      <td>7896</td>\n      <td>10243</td>\n      <td>0</td>\n      <td>0</td>\n      <td>...</td>\n      <td>NaN</td>\n      <td>NaN</td>\n      <td>NaN</td>\n      <td>NaN</td>\n      <td>NaN</td>\n      <td>NaN</td>\n      <td>NaN</td>\n      <td>NaN</td>\n      <td>NaN</td>\n      <td>NaN</td>\n    </tr>\n    <tr>\n      <th>25978</th>\n      <td>24558</td>\n      <td>24558</td>\n      <td>2015/2016</td>\n      <td>9</td>\n      <td>9/23/15 0:00</td>\n      <td>1992095</td>\n      <td>10192</td>\n      <td>9931</td>\n      <td>4</td>\n      <td>3</td>\n      <td>...</td>\n      <td>NaN</td>\n      <td>NaN</td>\n      <td>NaN</td>\n      <td>NaN</td>\n      <td>NaN</td>\n      <td>NaN</td>\n      <td>NaN</td>\n      <td>NaN</td>\n      <td>NaN</td>\n      <td>NaN</td>\n    </tr>\n  </tbody>\n</table>\n<p>3387 rows × 62 columns</p>\n</div>"
     },
     "metadata": {},
     "execution_count": 27
    }
   ],
   "source": [
    "import numpy as np\n",
    "df.loc[np.isnan(df['B365H'])]"
   ]
  },
  {
   "cell_type": "code",
   "execution_count": 37,
   "metadata": {},
   "outputs": [
    {
     "output_type": "execute_result",
     "data": {
      "text/plain": [
       "0         83.27\n",
       "1         78.89\n",
       "2         74.16\n",
       "3        106.00\n",
       "4         86.32\n",
       "          ...  \n",
       "25974      0.00\n",
       "25975      0.00\n",
       "25976      0.00\n",
       "25977      0.00\n",
       "25978      0.00\n",
       "Length: 25979, dtype: float64"
      ]
     },
     "metadata": {},
     "execution_count": 37
    }
   ],
   "source": [
    "np.sum(df[df.columns[32:]], axis=1)"
   ]
  },
  {
   "cell_type": "code",
   "execution_count": 93,
   "metadata": {},
   "outputs": [],
   "source": [
    "home_bet_columns = [x for x in np.arange(32, 35) if x%3==2]\n",
    "draw_bet_columns = [x for x in np.arange(32, 35) if x%3==0]\n",
    "away_bet_columns = [x for x in np.arange(32, 35) if x%3==1]"
   ]
  },
  {
   "cell_type": "code",
   "execution_count": 94,
   "metadata": {},
   "outputs": [],
   "source": [
    "home_bets = np.mean(df[df.columns[home_bet_columns]], axis=1)\n",
    "draw_bet = np.mean(df[df.columns[draw_bet_columns]], axis=1)\n",
    "away_bet = np.mean(df[df.columns[away_bet_columns]], axis=1)"
   ]
  },
  {
   "cell_type": "code",
   "execution_count": 95,
   "metadata": {},
   "outputs": [],
   "source": [
    "df['home_bet_agg'] = home_bets\n",
    "df['draw_bet_agg'] = draw_bet\n",
    "df['away_bet_agg'] = away_bet\n"
   ]
  },
  {
   "cell_type": "code",
   "execution_count": 96,
   "metadata": {},
   "outputs": [
    {
     "output_type": "execute_result",
     "data": {
      "text/plain": [
       "       country_id  league_id     season  stage           date  match_id  \\\n",
       "425             1          1  2009/2010     25    2/6/10 0:00    665698   \n",
       "557             1          1  2010/2011     14   11/6/10 0:00    838636   \n",
       "2069         1729       1729  2008/2009      6   9/27/08 0:00    489093   \n",
       "2181         1729       1729  2009/2010     16  12/12/09 0:00    658822   \n",
       "2537         1729       1729  2010/2011     13  11/14/10 0:00    839943   \n",
       "2711         1729       1729  2010/2011      3   8/28/10 0:00    839837   \n",
       "2828         1729       1729  2010/2011      6   9/25/10 0:00    839864   \n",
       "2970         1729       1729  2011/2012     19  12/31/11 0:00   1025137   \n",
       "2972         1729       1729  2011/2012     19  12/31/11 0:00   1025144   \n",
       "3378         1729       1729  2012/2013     21    1/2/13 0:00   1229317   \n",
       "3910         1729       1729  2013/2014     35   4/19/14 0:00   1475077   \n",
       "4232         1729       1729  2014/2015      3   8/30/14 0:00   1724006   \n",
       "6771         4769       4769  2013/2014     19  12/20/13 0:00   1468312   \n",
       "8734         7809       7809  2011/2012      1    8/7/11 0:00   1029765   \n",
       "9329         7809       7809  2012/2013      9  10/28/12 0:00   1239539   \n",
       "9806         7809       7809  2014/2015     26   3/22/15 0:00   1732946   \n",
       "10094        7809       7809  2015/2016     24    3/2/16 0:00   2002300   \n",
       "10204        7809       7809  2015/2016      4   9/12/15 0:00   2002117   \n",
       "11550       10257      10257  2011/2012     23   2/12/12 0:00   1083393   \n",
       "11858       10257      10257  2012/2013     19    1/6/13 0:00   1287151   \n",
       "13926       13274      13274  2010/2011     13   11/7/10 0:00    836373   \n",
       "14179       13274      13274  2010/2011      8   10/3/10 0:00    836273   \n",
       "14304       13274      13274  2011/2012     20    2/5/12 0:00   1028713   \n",
       "14518       13274      13274  2012/2013     11   11/4/12 0:00   1222847   \n",
       "14587       13274      13274  2012/2013     19   1/18/13 0:00   1223043   \n",
       "15330       13274      13274  2014/2015     31   4/19/15 0:00   1712669   \n",
       "17849       17642      17642  2008/2009      6  10/25/08 0:00    509169   \n",
       "18121       17642      17642  2010/2011      1   8/15/10 0:00    859645   \n",
       "19504       17642      17642  2015/2016     21    2/7/16 0:00   2015989   \n",
       "19575       17642      17642  2015/2016     28    4/4/16 0:00   2016060   \n",
       "19813       19694      19694  2008/2009     28    3/4/09 0:00    490143   \n",
       "20167       19694      19694  2010/2011     12  11/10/10 0:00    840295   \n",
       "20580       19694      19694  2011/2012      5   8/21/11 0:00   1024215   \n",
       "20618       19694      19694  2012/2013     11  10/27/12 0:00   1229076   \n",
       "20641       19694      19694  2012/2013     15  11/24/12 0:00   1229134   \n",
       "21139       19694      19694  2014/2015     21    3/4/15 0:00   1726139   \n",
       "21349       19694      19694  2015/2016     19  12/19/15 0:00   1990951   \n",
       "21677       21518      21518  2008/2009     24   2/21/09 0:00    530493   \n",
       "22389       21518      21518  2010/2011      2   9/11/10 0:00    875496   \n",
       "22423       21518      21518  2010/2011     22    2/5/11 0:00    875885   \n",
       "22511       21518      21518  2010/2011     30    4/2/11 0:00    875912   \n",
       "23566       21518      21518  2013/2014     22    2/1/14 0:00   1506031   \n",
       "23814       21518      21518  2014/2015     10   11/1/14 0:00   1778131   \n",
       "23966       21518      21518  2014/2015     24   2/21/15 0:00   1778273   \n",
       "24440       21518      21518  2015/2016     33   4/17/16 0:00   2030481   \n",
       "\n",
       "       home_team_id  away_team_id  home_team_goal  away_team_goal  ...   VCA  \\\n",
       "425            8635          9997               1               2  ...  12.0   \n",
       "557            9985          6351               1               3  ...  13.0   \n",
       "2069           9825          8667               1               2  ...  21.0   \n",
       "2181           8586          8602               0               1  ...  13.0   \n",
       "2537           8455          8472               0               3  ...  17.0   \n",
       "2711           8586          8528               0               1  ...  13.0   \n",
       "2828           9825          8659               2               3  ...  17.0   \n",
       "2970           8455         10252               1               3  ...  13.0   \n",
       "2972          10260          8655               2               3  ...  29.0   \n",
       "3378           8455         10172               0               1  ...  13.0   \n",
       "3910           8455          8472               1               2  ...  18.0   \n",
       "4232           8456         10194               0               1  ...  20.0   \n",
       "6771           9829          9873               1               2  ...  17.0   \n",
       "8734           9823          9788               0               1  ...  15.0   \n",
       "9329           9823          8178               1               2  ...  13.0   \n",
       "9806           9823          9788               0               2  ...  18.0   \n",
       "10094          9823          9905               1               2  ...  22.0   \n",
       "10204          8178          8262               0               1  ...  13.0   \n",
       "11550          8636          6269               0               1  ...  13.0   \n",
       "11858          9885          9882               1               2  ...  19.0   \n",
       "13926          8593         10217               0               1  ...  17.0   \n",
       "14179          8593          9908               1               2  ...  13.0   \n",
       "14304          8593          9908               0               2  ...  13.0   \n",
       "14518         10229          9839               1               2  ...  15.0   \n",
       "14587          8640          6413               1               3  ...  20.0   \n",
       "15330         10235          6433               0               1  ...  17.0   \n",
       "17849          9773          6421               2               3  ...   9.0   \n",
       "18121          9772         10215               1               2  ...  12.0   \n",
       "19504          9773        158085               1               2  ...  19.0   \n",
       "19575          9773        188163               0               1  ...  34.0   \n",
       "19813          8548          8066               0               1  ...  11.0   \n",
       "20167          8548         10251               0               3  ...  17.0   \n",
       "20580          9925          8467               0               1  ...  15.0   \n",
       "20618          9925          8597               0               2  ...  17.0   \n",
       "20641          9925          8066               0               1  ...  15.0   \n",
       "21139          9925          8467               0               1  ...  15.0   \n",
       "21349          9925          9927               1               2  ...  21.0   \n",
       "21677          8634          8558               1               2  ...  10.0   \n",
       "22389          8634         10278               0               2  ...  34.0   \n",
       "22423         10205          8581               0               1  ...  13.0   \n",
       "22511          8633          9869               0               1  ...  19.0   \n",
       "23566          8634         10267               2               3  ...  23.0   \n",
       "23814          8634          9910               0               1  ...  23.0   \n",
       "23966          8634          9864               0               1  ...  34.0   \n",
       "24440          8634         10267               1               2  ...  17.0   \n",
       "\n",
       "        GBH    GBD   GBA   BSH   BSD   BSA  home_bet_agg  draw_bet_agg  \\\n",
       "425    1.25   5.50   8.5  1.22   5.0  11.0          1.22          5.75   \n",
       "557    1.20   5.50  11.0  1.20   5.5  11.0          1.22          6.00   \n",
       "2069   1.22   5.50  13.0  1.20   5.5  15.0          1.20          6.00   \n",
       "2181   1.28   5.00  10.0  1.25   5.5  12.0          1.25          5.75   \n",
       "2537   1.22   6.00  11.0  1.20   6.0  13.0          1.22          5.75   \n",
       "2711   1.25   5.50  11.0  1.25   5.5  12.0          1.25          5.75   \n",
       "2828   1.20   6.00  13.0  1.18   6.0  17.0          1.22          6.00   \n",
       "2970   1.28   5.00  10.0  1.29   5.0  12.0          1.29          5.00   \n",
       "2972   1.15   7.00  15.0  1.14   7.0  21.0          1.13          8.00   \n",
       "3378   1.20   6.25  14.0  1.22   6.0  13.0          1.20          6.50   \n",
       "3910    NaN    NaN   NaN   NaN   NaN   NaN          1.18          7.00   \n",
       "4232    NaN    NaN   NaN   NaN   NaN   NaN          1.18          8.00   \n",
       "6771    NaN    NaN   NaN   NaN   NaN   NaN          1.22          5.75   \n",
       "8734   1.22   6.00  11.0  1.22   6.0  12.0          1.20          6.50   \n",
       "9329   1.22   6.35  11.0  1.22   6.0  12.0          1.22          6.00   \n",
       "9806    NaN    NaN   NaN   NaN   NaN   NaN          1.17          7.50   \n",
       "10094   NaN    NaN   NaN   NaN   NaN   NaN          1.13          9.00   \n",
       "10204   NaN    NaN   NaN   NaN   NaN   NaN          1.25          6.00   \n",
       "11550  1.25   5.25  12.0  1.25   5.5  11.0          1.25          5.50   \n",
       "11858  1.18   6.75  14.0  1.20   6.5  13.0          1.18          6.50   \n",
       "13926  1.17   6.00  12.0  1.17   6.0  15.0          1.17          6.50   \n",
       "14179  1.20   5.75  11.0  1.20   6.5  12.0          1.18          6.50   \n",
       "14304  1.22   5.75  11.0  1.22   5.5  12.0          1.20          6.50   \n",
       "14518  1.20   5.25  12.5  1.20   5.5  12.0          1.20          6.00   \n",
       "14587  1.15   6.75  12.0  1.14   7.5  13.0          1.14          8.00   \n",
       "15330   NaN    NaN   NaN   NaN   NaN   NaN          1.17          7.00   \n",
       "17849  1.25   5.00  10.0  1.22   5.0  11.0          1.25          5.50   \n",
       "18121  1.20   5.50  12.0  1.20   5.5  11.0          1.18          6.50   \n",
       "19504   NaN    NaN   NaN   NaN   NaN   NaN          1.17          6.50   \n",
       "19575   NaN    NaN   NaN   NaN   NaN   NaN          1.10          9.00   \n",
       "19813  1.20   6.00  11.0  1.20   6.5  15.0          1.16          7.00   \n",
       "20167  1.20   5.50  12.0  1.22   5.5  12.0          1.22          5.50   \n",
       "20580  1.18   5.75  12.0  1.17   6.5  17.0          1.20          6.00   \n",
       "20618  1.20   6.00  10.0  1.20   6.0  17.0          1.20          6.50   \n",
       "20641  1.20   5.75  11.0  1.20   6.5  13.0          1.20          6.50   \n",
       "21139   NaN    NaN   NaN   NaN   NaN   NaN          1.18          6.50   \n",
       "21349   NaN    NaN   NaN   NaN   NaN   NaN          1.13          8.00   \n",
       "21677  1.25   5.50  10.0  1.25   5.5   9.0          1.22          5.75   \n",
       "22389  1.07  10.00  23.0  1.07  11.0  26.0          1.06         11.00   \n",
       "22423  1.25   5.50  10.0  1.29   5.0   9.0          1.25          5.25   \n",
       "22511  1.15   7.50  14.0  1.18   7.0  13.0          1.14          7.50   \n",
       "23566   NaN    NaN   NaN   NaN   NaN   NaN          1.13          8.00   \n",
       "23814   NaN    NaN   NaN   NaN   NaN   NaN          1.13          8.50   \n",
       "23966   NaN    NaN   NaN   NaN   NaN   NaN          1.11         10.00   \n",
       "24440   NaN    NaN   NaN   NaN   NaN   NaN          1.14          9.00   \n",
       "\n",
       "       away_bet_agg  \n",
       "425            13.0  \n",
       "557            13.0  \n",
       "2069           17.0  \n",
       "2181           13.0  \n",
       "2537           15.0  \n",
       "2711           13.0  \n",
       "2828           15.0  \n",
       "2970           13.0  \n",
       "2972           26.0  \n",
       "3378           15.0  \n",
       "3910           13.0  \n",
       "4232           18.0  \n",
       "6771           13.0  \n",
       "8734           13.0  \n",
       "9329           13.0  \n",
       "9806           17.0  \n",
       "10094          21.0  \n",
       "10204          13.0  \n",
       "11550          13.0  \n",
       "11858          16.0  \n",
       "13926          12.0  \n",
       "14179          14.0  \n",
       "14304          13.0  \n",
       "14518          15.0  \n",
       "14587          15.0  \n",
       "15330          15.0  \n",
       "17849          13.0  \n",
       "18121          17.0  \n",
       "19504          19.0  \n",
       "19575          23.0  \n",
       "19813          15.0  \n",
       "20167          15.0  \n",
       "20580          16.0  \n",
       "20618          13.0  \n",
       "20641          13.0  \n",
       "21139          15.0  \n",
       "21349          19.0  \n",
       "21677          13.0  \n",
       "22389          34.0  \n",
       "22423          13.0  \n",
       "22511          17.0  \n",
       "23566          19.0  \n",
       "23814          17.0  \n",
       "23966          21.0  \n",
       "24440          17.0  \n",
       "\n",
       "[45 rows x 65 columns]"
      ],
      "text/html": "<div>\n<style scoped>\n    .dataframe tbody tr th:only-of-type {\n        vertical-align: middle;\n    }\n\n    .dataframe tbody tr th {\n        vertical-align: top;\n    }\n\n    .dataframe thead th {\n        text-align: right;\n    }\n</style>\n<table border=\"1\" class=\"dataframe\">\n  <thead>\n    <tr style=\"text-align: right;\">\n      <th></th>\n      <th>country_id</th>\n      <th>league_id</th>\n      <th>season</th>\n      <th>stage</th>\n      <th>date</th>\n      <th>match_id</th>\n      <th>home_team_id</th>\n      <th>away_team_id</th>\n      <th>home_team_goal</th>\n      <th>away_team_goal</th>\n      <th>...</th>\n      <th>VCA</th>\n      <th>GBH</th>\n      <th>GBD</th>\n      <th>GBA</th>\n      <th>BSH</th>\n      <th>BSD</th>\n      <th>BSA</th>\n      <th>home_bet_agg</th>\n      <th>draw_bet_agg</th>\n      <th>away_bet_agg</th>\n    </tr>\n  </thead>\n  <tbody>\n    <tr>\n      <th>425</th>\n      <td>1</td>\n      <td>1</td>\n      <td>2009/2010</td>\n      <td>25</td>\n      <td>2/6/10 0:00</td>\n      <td>665698</td>\n      <td>8635</td>\n      <td>9997</td>\n      <td>1</td>\n      <td>2</td>\n      <td>...</td>\n      <td>12.0</td>\n      <td>1.25</td>\n      <td>5.50</td>\n      <td>8.5</td>\n      <td>1.22</td>\n      <td>5.0</td>\n      <td>11.0</td>\n      <td>1.22</td>\n      <td>5.75</td>\n      <td>13.0</td>\n    </tr>\n    <tr>\n      <th>557</th>\n      <td>1</td>\n      <td>1</td>\n      <td>2010/2011</td>\n      <td>14</td>\n      <td>11/6/10 0:00</td>\n      <td>838636</td>\n      <td>9985</td>\n      <td>6351</td>\n      <td>1</td>\n      <td>3</td>\n      <td>...</td>\n      <td>13.0</td>\n      <td>1.20</td>\n      <td>5.50</td>\n      <td>11.0</td>\n      <td>1.20</td>\n      <td>5.5</td>\n      <td>11.0</td>\n      <td>1.22</td>\n      <td>6.00</td>\n      <td>13.0</td>\n    </tr>\n    <tr>\n      <th>2069</th>\n      <td>1729</td>\n      <td>1729</td>\n      <td>2008/2009</td>\n      <td>6</td>\n      <td>9/27/08 0:00</td>\n      <td>489093</td>\n      <td>9825</td>\n      <td>8667</td>\n      <td>1</td>\n      <td>2</td>\n      <td>...</td>\n      <td>21.0</td>\n      <td>1.22</td>\n      <td>5.50</td>\n      <td>13.0</td>\n      <td>1.20</td>\n      <td>5.5</td>\n      <td>15.0</td>\n      <td>1.20</td>\n      <td>6.00</td>\n      <td>17.0</td>\n    </tr>\n    <tr>\n      <th>2181</th>\n      <td>1729</td>\n      <td>1729</td>\n      <td>2009/2010</td>\n      <td>16</td>\n      <td>12/12/09 0:00</td>\n      <td>658822</td>\n      <td>8586</td>\n      <td>8602</td>\n      <td>0</td>\n      <td>1</td>\n      <td>...</td>\n      <td>13.0</td>\n      <td>1.28</td>\n      <td>5.00</td>\n      <td>10.0</td>\n      <td>1.25</td>\n      <td>5.5</td>\n      <td>12.0</td>\n      <td>1.25</td>\n      <td>5.75</td>\n      <td>13.0</td>\n    </tr>\n    <tr>\n      <th>2537</th>\n      <td>1729</td>\n      <td>1729</td>\n      <td>2010/2011</td>\n      <td>13</td>\n      <td>11/14/10 0:00</td>\n      <td>839943</td>\n      <td>8455</td>\n      <td>8472</td>\n      <td>0</td>\n      <td>3</td>\n      <td>...</td>\n      <td>17.0</td>\n      <td>1.22</td>\n      <td>6.00</td>\n      <td>11.0</td>\n      <td>1.20</td>\n      <td>6.0</td>\n      <td>13.0</td>\n      <td>1.22</td>\n      <td>5.75</td>\n      <td>15.0</td>\n    </tr>\n    <tr>\n      <th>2711</th>\n      <td>1729</td>\n      <td>1729</td>\n      <td>2010/2011</td>\n      <td>3</td>\n      <td>8/28/10 0:00</td>\n      <td>839837</td>\n      <td>8586</td>\n      <td>8528</td>\n      <td>0</td>\n      <td>1</td>\n      <td>...</td>\n      <td>13.0</td>\n      <td>1.25</td>\n      <td>5.50</td>\n      <td>11.0</td>\n      <td>1.25</td>\n      <td>5.5</td>\n      <td>12.0</td>\n      <td>1.25</td>\n      <td>5.75</td>\n      <td>13.0</td>\n    </tr>\n    <tr>\n      <th>2828</th>\n      <td>1729</td>\n      <td>1729</td>\n      <td>2010/2011</td>\n      <td>6</td>\n      <td>9/25/10 0:00</td>\n      <td>839864</td>\n      <td>9825</td>\n      <td>8659</td>\n      <td>2</td>\n      <td>3</td>\n      <td>...</td>\n      <td>17.0</td>\n      <td>1.20</td>\n      <td>6.00</td>\n      <td>13.0</td>\n      <td>1.18</td>\n      <td>6.0</td>\n      <td>17.0</td>\n      <td>1.22</td>\n      <td>6.00</td>\n      <td>15.0</td>\n    </tr>\n    <tr>\n      <th>2970</th>\n      <td>1729</td>\n      <td>1729</td>\n      <td>2011/2012</td>\n      <td>19</td>\n      <td>12/31/11 0:00</td>\n      <td>1025137</td>\n      <td>8455</td>\n      <td>10252</td>\n      <td>1</td>\n      <td>3</td>\n      <td>...</td>\n      <td>13.0</td>\n      <td>1.28</td>\n      <td>5.00</td>\n      <td>10.0</td>\n      <td>1.29</td>\n      <td>5.0</td>\n      <td>12.0</td>\n      <td>1.29</td>\n      <td>5.00</td>\n      <td>13.0</td>\n    </tr>\n    <tr>\n      <th>2972</th>\n      <td>1729</td>\n      <td>1729</td>\n      <td>2011/2012</td>\n      <td>19</td>\n      <td>12/31/11 0:00</td>\n      <td>1025144</td>\n      <td>10260</td>\n      <td>8655</td>\n      <td>2</td>\n      <td>3</td>\n      <td>...</td>\n      <td>29.0</td>\n      <td>1.15</td>\n      <td>7.00</td>\n      <td>15.0</td>\n      <td>1.14</td>\n      <td>7.0</td>\n      <td>21.0</td>\n      <td>1.13</td>\n      <td>8.00</td>\n      <td>26.0</td>\n    </tr>\n    <tr>\n      <th>3378</th>\n      <td>1729</td>\n      <td>1729</td>\n      <td>2012/2013</td>\n      <td>21</td>\n      <td>1/2/13 0:00</td>\n      <td>1229317</td>\n      <td>8455</td>\n      <td>10172</td>\n      <td>0</td>\n      <td>1</td>\n      <td>...</td>\n      <td>13.0</td>\n      <td>1.20</td>\n      <td>6.25</td>\n      <td>14.0</td>\n      <td>1.22</td>\n      <td>6.0</td>\n      <td>13.0</td>\n      <td>1.20</td>\n      <td>6.50</td>\n      <td>15.0</td>\n    </tr>\n    <tr>\n      <th>3910</th>\n      <td>1729</td>\n      <td>1729</td>\n      <td>2013/2014</td>\n      <td>35</td>\n      <td>4/19/14 0:00</td>\n      <td>1475077</td>\n      <td>8455</td>\n      <td>8472</td>\n      <td>1</td>\n      <td>2</td>\n      <td>...</td>\n      <td>18.0</td>\n      <td>NaN</td>\n      <td>NaN</td>\n      <td>NaN</td>\n      <td>NaN</td>\n      <td>NaN</td>\n      <td>NaN</td>\n      <td>1.18</td>\n      <td>7.00</td>\n      <td>13.0</td>\n    </tr>\n    <tr>\n      <th>4232</th>\n      <td>1729</td>\n      <td>1729</td>\n      <td>2014/2015</td>\n      <td>3</td>\n      <td>8/30/14 0:00</td>\n      <td>1724006</td>\n      <td>8456</td>\n      <td>10194</td>\n      <td>0</td>\n      <td>1</td>\n      <td>...</td>\n      <td>20.0</td>\n      <td>NaN</td>\n      <td>NaN</td>\n      <td>NaN</td>\n      <td>NaN</td>\n      <td>NaN</td>\n      <td>NaN</td>\n      <td>1.18</td>\n      <td>8.00</td>\n      <td>18.0</td>\n    </tr>\n    <tr>\n      <th>6771</th>\n      <td>4769</td>\n      <td>4769</td>\n      <td>2013/2014</td>\n      <td>19</td>\n      <td>12/20/13 0:00</td>\n      <td>1468312</td>\n      <td>9829</td>\n      <td>9873</td>\n      <td>1</td>\n      <td>2</td>\n      <td>...</td>\n      <td>17.0</td>\n      <td>NaN</td>\n      <td>NaN</td>\n      <td>NaN</td>\n      <td>NaN</td>\n      <td>NaN</td>\n      <td>NaN</td>\n      <td>1.22</td>\n      <td>5.75</td>\n      <td>13.0</td>\n    </tr>\n    <tr>\n      <th>8734</th>\n      <td>7809</td>\n      <td>7809</td>\n      <td>2011/2012</td>\n      <td>1</td>\n      <td>8/7/11 0:00</td>\n      <td>1029765</td>\n      <td>9823</td>\n      <td>9788</td>\n      <td>0</td>\n      <td>1</td>\n      <td>...</td>\n      <td>15.0</td>\n      <td>1.22</td>\n      <td>6.00</td>\n      <td>11.0</td>\n      <td>1.22</td>\n      <td>6.0</td>\n      <td>12.0</td>\n      <td>1.20</td>\n      <td>6.50</td>\n      <td>13.0</td>\n    </tr>\n    <tr>\n      <th>9329</th>\n      <td>7809</td>\n      <td>7809</td>\n      <td>2012/2013</td>\n      <td>9</td>\n      <td>10/28/12 0:00</td>\n      <td>1239539</td>\n      <td>9823</td>\n      <td>8178</td>\n      <td>1</td>\n      <td>2</td>\n      <td>...</td>\n      <td>13.0</td>\n      <td>1.22</td>\n      <td>6.35</td>\n      <td>11.0</td>\n      <td>1.22</td>\n      <td>6.0</td>\n      <td>12.0</td>\n      <td>1.22</td>\n      <td>6.00</td>\n      <td>13.0</td>\n    </tr>\n    <tr>\n      <th>9806</th>\n      <td>7809</td>\n      <td>7809</td>\n      <td>2014/2015</td>\n      <td>26</td>\n      <td>3/22/15 0:00</td>\n      <td>1732946</td>\n      <td>9823</td>\n      <td>9788</td>\n      <td>0</td>\n      <td>2</td>\n      <td>...</td>\n      <td>18.0</td>\n      <td>NaN</td>\n      <td>NaN</td>\n      <td>NaN</td>\n      <td>NaN</td>\n      <td>NaN</td>\n      <td>NaN</td>\n      <td>1.17</td>\n      <td>7.50</td>\n      <td>17.0</td>\n    </tr>\n    <tr>\n      <th>10094</th>\n      <td>7809</td>\n      <td>7809</td>\n      <td>2015/2016</td>\n      <td>24</td>\n      <td>3/2/16 0:00</td>\n      <td>2002300</td>\n      <td>9823</td>\n      <td>9905</td>\n      <td>1</td>\n      <td>2</td>\n      <td>...</td>\n      <td>22.0</td>\n      <td>NaN</td>\n      <td>NaN</td>\n      <td>NaN</td>\n      <td>NaN</td>\n      <td>NaN</td>\n      <td>NaN</td>\n      <td>1.13</td>\n      <td>9.00</td>\n      <td>21.0</td>\n    </tr>\n    <tr>\n      <th>10204</th>\n      <td>7809</td>\n      <td>7809</td>\n      <td>2015/2016</td>\n      <td>4</td>\n      <td>9/12/15 0:00</td>\n      <td>2002117</td>\n      <td>8178</td>\n      <td>8262</td>\n      <td>0</td>\n      <td>1</td>\n      <td>...</td>\n      <td>13.0</td>\n      <td>NaN</td>\n      <td>NaN</td>\n      <td>NaN</td>\n      <td>NaN</td>\n      <td>NaN</td>\n      <td>NaN</td>\n      <td>1.25</td>\n      <td>6.00</td>\n      <td>13.0</td>\n    </tr>\n    <tr>\n      <th>11550</th>\n      <td>10257</td>\n      <td>10257</td>\n      <td>2011/2012</td>\n      <td>23</td>\n      <td>2/12/12 0:00</td>\n      <td>1083393</td>\n      <td>8636</td>\n      <td>6269</td>\n      <td>0</td>\n      <td>1</td>\n      <td>...</td>\n      <td>13.0</td>\n      <td>1.25</td>\n      <td>5.25</td>\n      <td>12.0</td>\n      <td>1.25</td>\n      <td>5.5</td>\n      <td>11.0</td>\n      <td>1.25</td>\n      <td>5.50</td>\n      <td>13.0</td>\n    </tr>\n    <tr>\n      <th>11858</th>\n      <td>10257</td>\n      <td>10257</td>\n      <td>2012/2013</td>\n      <td>19</td>\n      <td>1/6/13 0:00</td>\n      <td>1287151</td>\n      <td>9885</td>\n      <td>9882</td>\n      <td>1</td>\n      <td>2</td>\n      <td>...</td>\n      <td>19.0</td>\n      <td>1.18</td>\n      <td>6.75</td>\n      <td>14.0</td>\n      <td>1.20</td>\n      <td>6.5</td>\n      <td>13.0</td>\n      <td>1.18</td>\n      <td>6.50</td>\n      <td>16.0</td>\n    </tr>\n    <tr>\n      <th>13926</th>\n      <td>13274</td>\n      <td>13274</td>\n      <td>2010/2011</td>\n      <td>13</td>\n      <td>11/7/10 0:00</td>\n      <td>836373</td>\n      <td>8593</td>\n      <td>10217</td>\n      <td>0</td>\n      <td>1</td>\n      <td>...</td>\n      <td>17.0</td>\n      <td>1.17</td>\n      <td>6.00</td>\n      <td>12.0</td>\n      <td>1.17</td>\n      <td>6.0</td>\n      <td>15.0</td>\n      <td>1.17</td>\n      <td>6.50</td>\n      <td>12.0</td>\n    </tr>\n    <tr>\n      <th>14179</th>\n      <td>13274</td>\n      <td>13274</td>\n      <td>2010/2011</td>\n      <td>8</td>\n      <td>10/3/10 0:00</td>\n      <td>836273</td>\n      <td>8593</td>\n      <td>9908</td>\n      <td>1</td>\n      <td>2</td>\n      <td>...</td>\n      <td>13.0</td>\n      <td>1.20</td>\n      <td>5.75</td>\n      <td>11.0</td>\n      <td>1.20</td>\n      <td>6.5</td>\n      <td>12.0</td>\n      <td>1.18</td>\n      <td>6.50</td>\n      <td>14.0</td>\n    </tr>\n    <tr>\n      <th>14304</th>\n      <td>13274</td>\n      <td>13274</td>\n      <td>2011/2012</td>\n      <td>20</td>\n      <td>2/5/12 0:00</td>\n      <td>1028713</td>\n      <td>8593</td>\n      <td>9908</td>\n      <td>0</td>\n      <td>2</td>\n      <td>...</td>\n      <td>13.0</td>\n      <td>1.22</td>\n      <td>5.75</td>\n      <td>11.0</td>\n      <td>1.22</td>\n      <td>5.5</td>\n      <td>12.0</td>\n      <td>1.20</td>\n      <td>6.50</td>\n      <td>13.0</td>\n    </tr>\n    <tr>\n      <th>14518</th>\n      <td>13274</td>\n      <td>13274</td>\n      <td>2012/2013</td>\n      <td>11</td>\n      <td>11/4/12 0:00</td>\n      <td>1222847</td>\n      <td>10229</td>\n      <td>9839</td>\n      <td>1</td>\n      <td>2</td>\n      <td>...</td>\n      <td>15.0</td>\n      <td>1.20</td>\n      <td>5.25</td>\n      <td>12.5</td>\n      <td>1.20</td>\n      <td>5.5</td>\n      <td>12.0</td>\n      <td>1.20</td>\n      <td>6.00</td>\n      <td>15.0</td>\n    </tr>\n    <tr>\n      <th>14587</th>\n      <td>13274</td>\n      <td>13274</td>\n      <td>2012/2013</td>\n      <td>19</td>\n      <td>1/18/13 0:00</td>\n      <td>1223043</td>\n      <td>8640</td>\n      <td>6413</td>\n      <td>1</td>\n      <td>3</td>\n      <td>...</td>\n      <td>20.0</td>\n      <td>1.15</td>\n      <td>6.75</td>\n      <td>12.0</td>\n      <td>1.14</td>\n      <td>7.5</td>\n      <td>13.0</td>\n      <td>1.14</td>\n      <td>8.00</td>\n      <td>15.0</td>\n    </tr>\n    <tr>\n      <th>15330</th>\n      <td>13274</td>\n      <td>13274</td>\n      <td>2014/2015</td>\n      <td>31</td>\n      <td>4/19/15 0:00</td>\n      <td>1712669</td>\n      <td>10235</td>\n      <td>6433</td>\n      <td>0</td>\n      <td>1</td>\n      <td>...</td>\n      <td>17.0</td>\n      <td>NaN</td>\n      <td>NaN</td>\n      <td>NaN</td>\n      <td>NaN</td>\n      <td>NaN</td>\n      <td>NaN</td>\n      <td>1.17</td>\n      <td>7.00</td>\n      <td>15.0</td>\n    </tr>\n    <tr>\n      <th>17849</th>\n      <td>17642</td>\n      <td>17642</td>\n      <td>2008/2009</td>\n      <td>6</td>\n      <td>10/25/08 0:00</td>\n      <td>509169</td>\n      <td>9773</td>\n      <td>6421</td>\n      <td>2</td>\n      <td>3</td>\n      <td>...</td>\n      <td>9.0</td>\n      <td>1.25</td>\n      <td>5.00</td>\n      <td>10.0</td>\n      <td>1.22</td>\n      <td>5.0</td>\n      <td>11.0</td>\n      <td>1.25</td>\n      <td>5.50</td>\n      <td>13.0</td>\n    </tr>\n    <tr>\n      <th>18121</th>\n      <td>17642</td>\n      <td>17642</td>\n      <td>2010/2011</td>\n      <td>1</td>\n      <td>8/15/10 0:00</td>\n      <td>859645</td>\n      <td>9772</td>\n      <td>10215</td>\n      <td>1</td>\n      <td>2</td>\n      <td>...</td>\n      <td>12.0</td>\n      <td>1.20</td>\n      <td>5.50</td>\n      <td>12.0</td>\n      <td>1.20</td>\n      <td>5.5</td>\n      <td>11.0</td>\n      <td>1.18</td>\n      <td>6.50</td>\n      <td>17.0</td>\n    </tr>\n    <tr>\n      <th>19504</th>\n      <td>17642</td>\n      <td>17642</td>\n      <td>2015/2016</td>\n      <td>21</td>\n      <td>2/7/16 0:00</td>\n      <td>2015989</td>\n      <td>9773</td>\n      <td>158085</td>\n      <td>1</td>\n      <td>2</td>\n      <td>...</td>\n      <td>19.0</td>\n      <td>NaN</td>\n      <td>NaN</td>\n      <td>NaN</td>\n      <td>NaN</td>\n      <td>NaN</td>\n      <td>NaN</td>\n      <td>1.17</td>\n      <td>6.50</td>\n      <td>19.0</td>\n    </tr>\n    <tr>\n      <th>19575</th>\n      <td>17642</td>\n      <td>17642</td>\n      <td>2015/2016</td>\n      <td>28</td>\n      <td>4/4/16 0:00</td>\n      <td>2016060</td>\n      <td>9773</td>\n      <td>188163</td>\n      <td>0</td>\n      <td>1</td>\n      <td>...</td>\n      <td>34.0</td>\n      <td>NaN</td>\n      <td>NaN</td>\n      <td>NaN</td>\n      <td>NaN</td>\n      <td>NaN</td>\n      <td>NaN</td>\n      <td>1.10</td>\n      <td>9.00</td>\n      <td>23.0</td>\n    </tr>\n    <tr>\n      <th>19813</th>\n      <td>19694</td>\n      <td>19694</td>\n      <td>2008/2009</td>\n      <td>28</td>\n      <td>3/4/09 0:00</td>\n      <td>490143</td>\n      <td>8548</td>\n      <td>8066</td>\n      <td>0</td>\n      <td>1</td>\n      <td>...</td>\n      <td>11.0</td>\n      <td>1.20</td>\n      <td>6.00</td>\n      <td>11.0</td>\n      <td>1.20</td>\n      <td>6.5</td>\n      <td>15.0</td>\n      <td>1.16</td>\n      <td>7.00</td>\n      <td>15.0</td>\n    </tr>\n    <tr>\n      <th>20167</th>\n      <td>19694</td>\n      <td>19694</td>\n      <td>2010/2011</td>\n      <td>12</td>\n      <td>11/10/10 0:00</td>\n      <td>840295</td>\n      <td>8548</td>\n      <td>10251</td>\n      <td>0</td>\n      <td>3</td>\n      <td>...</td>\n      <td>17.0</td>\n      <td>1.20</td>\n      <td>5.50</td>\n      <td>12.0</td>\n      <td>1.22</td>\n      <td>5.5</td>\n      <td>12.0</td>\n      <td>1.22</td>\n      <td>5.50</td>\n      <td>15.0</td>\n    </tr>\n    <tr>\n      <th>20580</th>\n      <td>19694</td>\n      <td>19694</td>\n      <td>2011/2012</td>\n      <td>5</td>\n      <td>8/21/11 0:00</td>\n      <td>1024215</td>\n      <td>9925</td>\n      <td>8467</td>\n      <td>0</td>\n      <td>1</td>\n      <td>...</td>\n      <td>15.0</td>\n      <td>1.18</td>\n      <td>5.75</td>\n      <td>12.0</td>\n      <td>1.17</td>\n      <td>6.5</td>\n      <td>17.0</td>\n      <td>1.20</td>\n      <td>6.00</td>\n      <td>16.0</td>\n    </tr>\n    <tr>\n      <th>20618</th>\n      <td>19694</td>\n      <td>19694</td>\n      <td>2012/2013</td>\n      <td>11</td>\n      <td>10/27/12 0:00</td>\n      <td>1229076</td>\n      <td>9925</td>\n      <td>8597</td>\n      <td>0</td>\n      <td>2</td>\n      <td>...</td>\n      <td>17.0</td>\n      <td>1.20</td>\n      <td>6.00</td>\n      <td>10.0</td>\n      <td>1.20</td>\n      <td>6.0</td>\n      <td>17.0</td>\n      <td>1.20</td>\n      <td>6.50</td>\n      <td>13.0</td>\n    </tr>\n    <tr>\n      <th>20641</th>\n      <td>19694</td>\n      <td>19694</td>\n      <td>2012/2013</td>\n      <td>15</td>\n      <td>11/24/12 0:00</td>\n      <td>1229134</td>\n      <td>9925</td>\n      <td>8066</td>\n      <td>0</td>\n      <td>1</td>\n      <td>...</td>\n      <td>15.0</td>\n      <td>1.20</td>\n      <td>5.75</td>\n      <td>11.0</td>\n      <td>1.20</td>\n      <td>6.5</td>\n      <td>13.0</td>\n      <td>1.20</td>\n      <td>6.50</td>\n      <td>13.0</td>\n    </tr>\n    <tr>\n      <th>21139</th>\n      <td>19694</td>\n      <td>19694</td>\n      <td>2014/2015</td>\n      <td>21</td>\n      <td>3/4/15 0:00</td>\n      <td>1726139</td>\n      <td>9925</td>\n      <td>8467</td>\n      <td>0</td>\n      <td>1</td>\n      <td>...</td>\n      <td>15.0</td>\n      <td>NaN</td>\n      <td>NaN</td>\n      <td>NaN</td>\n      <td>NaN</td>\n      <td>NaN</td>\n      <td>NaN</td>\n      <td>1.18</td>\n      <td>6.50</td>\n      <td>15.0</td>\n    </tr>\n    <tr>\n      <th>21349</th>\n      <td>19694</td>\n      <td>19694</td>\n      <td>2015/2016</td>\n      <td>19</td>\n      <td>12/19/15 0:00</td>\n      <td>1990951</td>\n      <td>9925</td>\n      <td>9927</td>\n      <td>1</td>\n      <td>2</td>\n      <td>...</td>\n      <td>21.0</td>\n      <td>NaN</td>\n      <td>NaN</td>\n      <td>NaN</td>\n      <td>NaN</td>\n      <td>NaN</td>\n      <td>NaN</td>\n      <td>1.13</td>\n      <td>8.00</td>\n      <td>19.0</td>\n    </tr>\n    <tr>\n      <th>21677</th>\n      <td>21518</td>\n      <td>21518</td>\n      <td>2008/2009</td>\n      <td>24</td>\n      <td>2/21/09 0:00</td>\n      <td>530493</td>\n      <td>8634</td>\n      <td>8558</td>\n      <td>1</td>\n      <td>2</td>\n      <td>...</td>\n      <td>10.0</td>\n      <td>1.25</td>\n      <td>5.50</td>\n      <td>10.0</td>\n      <td>1.25</td>\n      <td>5.5</td>\n      <td>9.0</td>\n      <td>1.22</td>\n      <td>5.75</td>\n      <td>13.0</td>\n    </tr>\n    <tr>\n      <th>22389</th>\n      <td>21518</td>\n      <td>21518</td>\n      <td>2010/2011</td>\n      <td>2</td>\n      <td>9/11/10 0:00</td>\n      <td>875496</td>\n      <td>8634</td>\n      <td>10278</td>\n      <td>0</td>\n      <td>2</td>\n      <td>...</td>\n      <td>34.0</td>\n      <td>1.07</td>\n      <td>10.00</td>\n      <td>23.0</td>\n      <td>1.07</td>\n      <td>11.0</td>\n      <td>26.0</td>\n      <td>1.06</td>\n      <td>11.00</td>\n      <td>34.0</td>\n    </tr>\n    <tr>\n      <th>22423</th>\n      <td>21518</td>\n      <td>21518</td>\n      <td>2010/2011</td>\n      <td>22</td>\n      <td>2/5/11 0:00</td>\n      <td>875885</td>\n      <td>10205</td>\n      <td>8581</td>\n      <td>0</td>\n      <td>1</td>\n      <td>...</td>\n      <td>13.0</td>\n      <td>1.25</td>\n      <td>5.50</td>\n      <td>10.0</td>\n      <td>1.29</td>\n      <td>5.0</td>\n      <td>9.0</td>\n      <td>1.25</td>\n      <td>5.25</td>\n      <td>13.0</td>\n    </tr>\n    <tr>\n      <th>22511</th>\n      <td>21518</td>\n      <td>21518</td>\n      <td>2010/2011</td>\n      <td>30</td>\n      <td>4/2/11 0:00</td>\n      <td>875912</td>\n      <td>8633</td>\n      <td>9869</td>\n      <td>0</td>\n      <td>1</td>\n      <td>...</td>\n      <td>19.0</td>\n      <td>1.15</td>\n      <td>7.50</td>\n      <td>14.0</td>\n      <td>1.18</td>\n      <td>7.0</td>\n      <td>13.0</td>\n      <td>1.14</td>\n      <td>7.50</td>\n      <td>17.0</td>\n    </tr>\n    <tr>\n      <th>23566</th>\n      <td>21518</td>\n      <td>21518</td>\n      <td>2013/2014</td>\n      <td>22</td>\n      <td>2/1/14 0:00</td>\n      <td>1506031</td>\n      <td>8634</td>\n      <td>10267</td>\n      <td>2</td>\n      <td>3</td>\n      <td>...</td>\n      <td>23.0</td>\n      <td>NaN</td>\n      <td>NaN</td>\n      <td>NaN</td>\n      <td>NaN</td>\n      <td>NaN</td>\n      <td>NaN</td>\n      <td>1.13</td>\n      <td>8.00</td>\n      <td>19.0</td>\n    </tr>\n    <tr>\n      <th>23814</th>\n      <td>21518</td>\n      <td>21518</td>\n      <td>2014/2015</td>\n      <td>10</td>\n      <td>11/1/14 0:00</td>\n      <td>1778131</td>\n      <td>8634</td>\n      <td>9910</td>\n      <td>0</td>\n      <td>1</td>\n      <td>...</td>\n      <td>23.0</td>\n      <td>NaN</td>\n      <td>NaN</td>\n      <td>NaN</td>\n      <td>NaN</td>\n      <td>NaN</td>\n      <td>NaN</td>\n      <td>1.13</td>\n      <td>8.50</td>\n      <td>17.0</td>\n    </tr>\n    <tr>\n      <th>23966</th>\n      <td>21518</td>\n      <td>21518</td>\n      <td>2014/2015</td>\n      <td>24</td>\n      <td>2/21/15 0:00</td>\n      <td>1778273</td>\n      <td>8634</td>\n      <td>9864</td>\n      <td>0</td>\n      <td>1</td>\n      <td>...</td>\n      <td>34.0</td>\n      <td>NaN</td>\n      <td>NaN</td>\n      <td>NaN</td>\n      <td>NaN</td>\n      <td>NaN</td>\n      <td>NaN</td>\n      <td>1.11</td>\n      <td>10.00</td>\n      <td>21.0</td>\n    </tr>\n    <tr>\n      <th>24440</th>\n      <td>21518</td>\n      <td>21518</td>\n      <td>2015/2016</td>\n      <td>33</td>\n      <td>4/17/16 0:00</td>\n      <td>2030481</td>\n      <td>8634</td>\n      <td>10267</td>\n      <td>1</td>\n      <td>2</td>\n      <td>...</td>\n      <td>17.0</td>\n      <td>NaN</td>\n      <td>NaN</td>\n      <td>NaN</td>\n      <td>NaN</td>\n      <td>NaN</td>\n      <td>NaN</td>\n      <td>1.14</td>\n      <td>9.00</td>\n      <td>17.0</td>\n    </tr>\n  </tbody>\n</table>\n<p>45 rows × 65 columns</p>\n</div>"
     },
     "metadata": {},
     "execution_count": 96
    }
   ],
   "source": [
    "df.loc[(df['home_bet_agg']*10 < df['away_bet_agg']) & (df['home_team_goal'] < df['away_team_goal'] )]"
   ]
  },
  {
   "cell_type": "code",
   "execution_count": 97,
   "metadata": {},
   "outputs": [
    {
     "output_type": "execute_result",
     "data": {
      "text/plain": [
       "716.0"
      ]
     },
     "metadata": {},
     "execution_count": 97
    }
   ],
   "source": [
    "np.sum(df.loc[(df['home_bet_agg']*10 < df['away_bet_agg']) & (df['home_team_goal'] < df['away_team_goal'] )]['away_bet_agg'])"
   ]
  },
  {
   "cell_type": "code",
   "execution_count": 135,
   "metadata": {},
   "outputs": [
    {
     "output_type": "execute_result",
     "data": {
      "text/plain": [
       "8.21999999999997"
      ]
     },
     "metadata": {},
     "execution_count": 135
    }
   ],
   "source": [
    "oddsRatio = 10\n",
    "df_favor = df.loc[(df['home_bet_agg']*oddsRatio < df['away_bet_agg']) & (df['home_team_goal'] > df['away_team_goal'] )]\n",
    "df_favor_opp  = df.loc[(df['home_bet_agg']*oddsRatio < df['away_bet_agg']) & (df['home_team_goal'] < df['away_team_goal'] )]\n",
    "df_favor_eq  = df.loc[(df['home_bet_agg']*oddsRatio < df['away_bet_agg']) & (df['home_team_goal'] == df['away_team_goal'] )]\n",
    "np.sum(df_favor['home_bet_agg']-1) - np.count_nonzero(df_favor_opp['away_bet_agg']) - np.count_nonzero(df_favor_eq['draw_bet_agg']) "
   ]
  },
  {
   "cell_type": "code",
   "execution_count": 104,
   "metadata": {},
   "outputs": [
    {
     "output_type": "execute_result",
     "data": {
      "text/plain": [
       "       country_id  league_id     season  stage           date  match_id  \\\n",
       "2972         1729       1729  2011/2012     19  12/31/11 0:00   1025144   \n",
       "19575       17642      17642  2015/2016     28    4/4/16 0:00   2016060   \n",
       "22389       21518      21518  2010/2011      2   9/11/10 0:00    875496   \n",
       "\n",
       "       home_team_id  away_team_id  home_team_goal  away_team_goal  ...   VCA  \\\n",
       "2972          10260          8655               2               3  ...  29.0   \n",
       "19575          9773        188163               0               1  ...  34.0   \n",
       "22389          8634         10278               0               2  ...  34.0   \n",
       "\n",
       "        GBH   GBD   GBA   BSH   BSD   BSA  home_bet_agg  draw_bet_agg  \\\n",
       "2972   1.15   7.0  15.0  1.14   7.0  21.0          1.13           8.0   \n",
       "19575   NaN   NaN   NaN   NaN   NaN   NaN          1.10           9.0   \n",
       "22389  1.07  10.0  23.0  1.07  11.0  26.0          1.06          11.0   \n",
       "\n",
       "       away_bet_agg  \n",
       "2972           26.0  \n",
       "19575          23.0  \n",
       "22389          34.0  \n",
       "\n",
       "[3 rows x 65 columns]"
      ],
      "text/html": "<div>\n<style scoped>\n    .dataframe tbody tr th:only-of-type {\n        vertical-align: middle;\n    }\n\n    .dataframe tbody tr th {\n        vertical-align: top;\n    }\n\n    .dataframe thead th {\n        text-align: right;\n    }\n</style>\n<table border=\"1\" class=\"dataframe\">\n  <thead>\n    <tr style=\"text-align: right;\">\n      <th></th>\n      <th>country_id</th>\n      <th>league_id</th>\n      <th>season</th>\n      <th>stage</th>\n      <th>date</th>\n      <th>match_id</th>\n      <th>home_team_id</th>\n      <th>away_team_id</th>\n      <th>home_team_goal</th>\n      <th>away_team_goal</th>\n      <th>...</th>\n      <th>VCA</th>\n      <th>GBH</th>\n      <th>GBD</th>\n      <th>GBA</th>\n      <th>BSH</th>\n      <th>BSD</th>\n      <th>BSA</th>\n      <th>home_bet_agg</th>\n      <th>draw_bet_agg</th>\n      <th>away_bet_agg</th>\n    </tr>\n  </thead>\n  <tbody>\n    <tr>\n      <th>2972</th>\n      <td>1729</td>\n      <td>1729</td>\n      <td>2011/2012</td>\n      <td>19</td>\n      <td>12/31/11 0:00</td>\n      <td>1025144</td>\n      <td>10260</td>\n      <td>8655</td>\n      <td>2</td>\n      <td>3</td>\n      <td>...</td>\n      <td>29.0</td>\n      <td>1.15</td>\n      <td>7.0</td>\n      <td>15.0</td>\n      <td>1.14</td>\n      <td>7.0</td>\n      <td>21.0</td>\n      <td>1.13</td>\n      <td>8.0</td>\n      <td>26.0</td>\n    </tr>\n    <tr>\n      <th>19575</th>\n      <td>17642</td>\n      <td>17642</td>\n      <td>2015/2016</td>\n      <td>28</td>\n      <td>4/4/16 0:00</td>\n      <td>2016060</td>\n      <td>9773</td>\n      <td>188163</td>\n      <td>0</td>\n      <td>1</td>\n      <td>...</td>\n      <td>34.0</td>\n      <td>NaN</td>\n      <td>NaN</td>\n      <td>NaN</td>\n      <td>NaN</td>\n      <td>NaN</td>\n      <td>NaN</td>\n      <td>1.10</td>\n      <td>9.0</td>\n      <td>23.0</td>\n    </tr>\n    <tr>\n      <th>22389</th>\n      <td>21518</td>\n      <td>21518</td>\n      <td>2010/2011</td>\n      <td>2</td>\n      <td>9/11/10 0:00</td>\n      <td>875496</td>\n      <td>8634</td>\n      <td>10278</td>\n      <td>0</td>\n      <td>2</td>\n      <td>...</td>\n      <td>34.0</td>\n      <td>1.07</td>\n      <td>10.0</td>\n      <td>23.0</td>\n      <td>1.07</td>\n      <td>11.0</td>\n      <td>26.0</td>\n      <td>1.06</td>\n      <td>11.0</td>\n      <td>34.0</td>\n    </tr>\n  </tbody>\n</table>\n<p>3 rows × 65 columns</p>\n</div>"
     },
     "metadata": {},
     "execution_count": 104
    }
   ],
   "source": [
    "df_favor_opp"
   ]
  },
  {
   "cell_type": "code",
   "execution_count": 117,
   "metadata": {},
   "outputs": [
    {
     "output_type": "execute_result",
     "data": {
      "text/plain": [
       "13823.21"
      ]
     },
     "metadata": {},
     "execution_count": 117
    }
   ],
   "source": [
    "np.sum(df.loc[df['away_team_goal'] > df['home_team_goal']]['away_bet_agg']) - np.count_nonzero(df.loc[df['away_team_goal'] < df['away_team_goal']]['home_bet_agg']) - np.count_nonzero(df.loc[df['away_team_goal'] == df['home_team_goal']]['draw_bet_agg'])"
   ]
  },
  {
   "cell_type": "code",
   "execution_count": 118,
   "metadata": {},
   "outputs": [
    {
     "output_type": "execute_result",
     "data": {
      "text/plain": [
       "14927.93"
      ]
     },
     "metadata": {},
     "execution_count": 118
    }
   ],
   "source": [
    "np.sum(df.loc[df['away_team_goal'] < df['home_team_goal']]['home_bet_agg']) - np.count_nonzero(df.loc[df['away_team_goal'] > df['away_team_goal']]['away_bet_agg']) - np.count_nonzero(df.loc[df['away_team_goal'] == df['home_team_goal']]['draw_bet_agg'])"
   ]
  },
  {
   "cell_type": "code",
   "execution_count": 129,
   "metadata": {},
   "outputs": [
    {
     "output_type": "execute_result",
     "data": {
      "text/plain": [
       "-15332.520000000004"
      ]
     },
     "metadata": {},
     "execution_count": 129
    }
   ],
   "source": [
    "np.sum(df.loc[df['away_team_goal'] > df['home_team_goal']]['away_bet_agg'])+np.sum(df.loc[df['away_team_goal'] < df['home_team_goal']]['home_bet_agg'])+ np.sum(df.loc[df['away_team_goal'] == df['home_team_goal']]['draw_bet_agg']) - 3*df.shape[0]"
   ]
  },
  {
   "cell_type": "code",
   "execution_count": 126,
   "metadata": {},
   "outputs": [
    {
     "output_type": "execute_result",
     "data": {
      "text/plain": [
       "0        1.40\n",
       "1        1.20\n",
       "2        0.75\n",
       "3        5.50\n",
       "4       -0.35\n",
       "         ... \n",
       "25974     NaN\n",
       "25975     NaN\n",
       "25976     NaN\n",
       "25977     NaN\n",
       "25978     NaN\n",
       "Length: 25979, dtype: float64"
      ]
     },
     "metadata": {},
     "execution_count": 126
    }
   ],
   "source": [
    "(df['away_bet_agg']*(df['away_team_goal'] > df['home_team_goal'])+(df['away_team_goal'] < df['home_team_goal'])*df['away_bet_agg']+ (df['away_team_goal'] == df['home_team_goal'])*df['draw_bet_agg'] - 2)[:50]"
   ]
  },
  {
   "cell_type": "code",
   "execution_count": 77,
   "metadata": {},
   "outputs": [
    {
     "output_type": "execute_result",
     "data": {
      "text/plain": [
       "642.4040833333332"
      ]
     },
     "metadata": {},
     "execution_count": 77
    }
   ],
   "source": [
    "np.sum(df.loc[(df['home_bet_agg']*10 < df['away_bet_agg']) & (df['home_team_goal'] == df['away_team_goal'] )]['draw_bet_agg'])"
   ]
  },
  {
   "cell_type": "code",
   "execution_count": null,
   "metadata": {},
   "outputs": [],
   "source": [
    "np.sum(df.loc[(df['home_bet_agg']*10 < df['away_bet_agg']) & (df['home_team_goal'] > df['away_team_goal'] )]['home_bet_agg'])"
   ]
  }
 ]
}